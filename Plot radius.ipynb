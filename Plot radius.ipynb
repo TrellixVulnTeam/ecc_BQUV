{
 "cells": [
  {
   "cell_type": "code",
   "execution_count": 1,
   "metadata": {},
   "outputs": [],
   "source": [
    "import pandas as pd\n",
    "import numpy as np\n",
    "import plotly.graph_objects as go\n",
    "import requests, io, json\n",
    "import random\n",
    "import plotly.express as px\n",
    "\n",
    "import geopandas as gpd\n",
    "import shapely.geometry\n"
   ]
  },
  {
   "cell_type": "code",
   "execution_count": 2,
   "metadata": {},
   "outputs": [],
   "source": [
    "from ev import *\n",
    "from radius_map import *"
   ]
  },
  {
   "cell_type": "code",
   "execution_count": 3,
   "metadata": {},
   "outputs": [],
   "source": [
    "# bring in EV Data\n",
    "\n",
    "ev_raw = pd.read_csv('./app/data_files/ev_car_final.csv',index_col=0)\n",
    "\n",
    "ev_raw,ev_range,ev_df = ev_data(ev_raw)\n",
    "\n",
    "# US Zip Code and Lat / Long Dataset    \n",
    "us_zip_lat_long_data = pd.read_csv('./app/data_files/us_zip_code_lat_long.csv'\n",
    "                                   ,dtype={'ZIP': str,'LAT': float,'LNG': float})"
   ]
  },
  {
   "cell_type": "code",
   "execution_count": 22,
   "metadata": {
    "scrolled": true
   },
   "outputs": [
    {
     "data": {
      "text/plain": [
       "array(['Aiways', 'Audi', 'BMW', 'Byton', 'Citroen', 'CUPRA', 'Dacia',\n",
       "       'DS 3', 'Fiat', 'Ford', 'Honda', 'Hyundai', 'Hyundai ', 'Jaguar',\n",
       "       'Kia', 'Kia ', 'Lexus', 'Lightyear', 'Lucid Air', 'Mazda',\n",
       "       'Mercedes', 'Mercedes ', 'MG', 'MG ', 'Mini', 'Nissan', 'Opel',\n",
       "       'Peugeot', 'Polestar', 'Porsche', 'Renault', 'SEAT', 'Skoda',\n",
       "       'Skoda ', 'Smart', 'Sono', 'Tesla', 'Tesla ', 'Toyota',\n",
       "       'Volkswagen', 'Volvo'], dtype=object)"
      ]
     },
     "execution_count": 22,
     "metadata": {},
     "output_type": "execute_result"
    }
   ],
   "source": [
    "# # Get distinct Brands\n",
    "brands = ev_df['Brand'].unique()\n",
    "brands"
   ]
  },
  {
   "cell_type": "code",
   "execution_count": 5,
   "metadata": {},
   "outputs": [],
   "source": [
    "# # ev_df.loc[(ev_df['Brand']== 'Ford')]\n",
    "# brand_1 = 'Tesla'\n",
    "# # brand_2 = 'Volkswagen'"
   ]
  },
  {
   "cell_type": "code",
   "execution_count": 6,
   "metadata": {
    "scrolled": true
   },
   "outputs": [],
   "source": [
    "# # # Get Distinct models from brands\n",
    "# models = ev_df.index[(ev_df['Brand']== brand_1)].unique()\n",
    "# models"
   ]
  },
  {
   "cell_type": "code",
   "execution_count": 7,
   "metadata": {},
   "outputs": [],
   "source": [
    "## Car 1\n",
    "# brand_1 = 'Ford'\n",
    "car_1 = 'Mustang Mach-E SR AWD'\n",
    "\n",
    "## Car 2\n",
    "# brand_2 = 'Volkswagen'\n",
    "car_2 = 'ID.4 GTX'"
   ]
  },
  {
   "cell_type": "code",
   "execution_count": 8,
   "metadata": {},
   "outputs": [],
   "source": [
    "## Set Distiance\n",
    "range_1 = get_range(ev_range,car_1)\n",
    "range_2 = get_range(ev_range,car_2)"
   ]
  },
  {
   "cell_type": "code",
   "execution_count": 9,
   "metadata": {
    "scrolled": true
   },
   "outputs": [],
   "source": [
    "## Set Zip \n",
    "# zip_search = input(\"Zip: \")\n",
    "zip = '32026'"
   ]
  },
  {
   "cell_type": "code",
   "execution_count": 10,
   "metadata": {
    "scrolled": false
   },
   "outputs": [],
   "source": [
    "# Plot Map\n",
    "radius_map(zip,us_zip_lat_long_data,range_1,range_2)"
   ]
  },
  {
   "cell_type": "code",
   "execution_count": null,
   "metadata": {},
   "outputs": [],
   "source": []
  },
  {
   "cell_type": "code",
   "execution_count": null,
   "metadata": {},
   "outputs": [],
   "source": [
    "\n"
   ]
  },
  {
   "cell_type": "code",
   "execution_count": 11,
   "metadata": {
    "scrolled": true
   },
   "outputs": [],
   "source": [
    "# # formatted_table(comparison_table)\n",
    "# display(get_comparison_table(ev_df,car_1,car_2))\n",
    "# print(\"*** shaded values are etimates ***\")"
   ]
  },
  {
   "cell_type": "code",
   "execution_count": 12,
   "metadata": {},
   "outputs": [],
   "source": [
    "# get_comparison_table(ev_df,car_1,car_2)"
   ]
  },
  {
   "cell_type": "code",
   "execution_count": null,
   "metadata": {
    "scrolled": false
   },
   "outputs": [],
   "source": []
  },
  {
   "cell_type": "code",
   "execution_count": 13,
   "metadata": {},
   "outputs": [],
   "source": [
    "# a = get_data_table(car_1,car_2)"
   ]
  },
  {
   "cell_type": "code",
   "execution_count": 14,
   "metadata": {},
   "outputs": [],
   "source": [
    "# (a[car_1][1]-a[car_2][1])"
   ]
  },
  {
   "cell_type": "code",
   "execution_count": 15,
   "metadata": {},
   "outputs": [],
   "source": [
    "# diff = []\n",
    "\n",
    "# for i in range(0,11):\n",
    "    \n",
    "#     try:\n",
    "#         b = (int(a[car_1][i])) - (int(a[car_2][i]))\n",
    "#     except:\n",
    "#         try:\n",
    "#             b = round((float(a[car_1][i].replace(\"*\",\"\"))) - (float(a[car_2][i].replace(\"*\",\"\"))),2)\n",
    "#         except:\n",
    "#             b = \"NA\"\n",
    "#     diff.append(b)"
   ]
  },
  {
   "cell_type": "code",
   "execution_count": 16,
   "metadata": {},
   "outputs": [],
   "source": [
    "# diff"
   ]
  },
  {
   "cell_type": "code",
   "execution_count": 17,
   "metadata": {
    "scrolled": true
   },
   "outputs": [],
   "source": [
    "# (float(a[car_1][1])) - (float(a[car_2][1]))"
   ]
  },
  {
   "cell_type": "code",
   "execution_count": 18,
   "metadata": {},
   "outputs": [],
   "source": [
    "# a[car_1]"
   ]
  },
  {
   "cell_type": "code",
   "execution_count": 19,
   "metadata": {},
   "outputs": [],
   "source": [
    "# (float(a[car_1][1].replace(\"*\",\"\"))) - (float(a[car_2][1].replace(\"*\",\"\")))"
   ]
  },
  {
   "cell_type": "code",
   "execution_count": 20,
   "metadata": {},
   "outputs": [],
   "source": [
    "# (int(a[car_1][2])) - (int(a[car_2][2]))\n",
    "# (float(a[car_1][2].replace(\"*\",\"\"))) - (float(a[car_2][2].replace(\"*\",\"\")))"
   ]
  }
 ],
 "metadata": {
  "kernelspec": {
   "display_name": "Python 3",
   "language": "python",
   "name": "python3"
  },
  "language_info": {
   "codemirror_mode": {
    "name": "ipython",
    "version": 3
   },
   "file_extension": ".py",
   "mimetype": "text/x-python",
   "name": "python",
   "nbconvert_exporter": "python",
   "pygments_lexer": "ipython3",
   "version": "3.8.5"
  }
 },
 "nbformat": 4,
 "nbformat_minor": 4
}
