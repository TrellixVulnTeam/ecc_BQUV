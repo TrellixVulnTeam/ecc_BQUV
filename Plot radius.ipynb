{
 "cells": [
  {
   "cell_type": "code",
   "execution_count": 1,
   "metadata": {},
   "outputs": [],
   "source": [
    "import pandas as pd\n",
    "import numpy as np\n",
    "import plotly.graph_objects as go\n",
    "import requests, io, json\n",
    "import random\n",
    "import plotly.express as px\n",
    "\n",
    "import geopandas as gpd\n",
    "import shapely.geometry\n"
   ]
  },
  {
   "cell_type": "code",
   "execution_count": 2,
   "metadata": {},
   "outputs": [],
   "source": [
    "from ev import *\n",
    "from radius_map import *"
   ]
  },
  {
   "cell_type": "code",
   "execution_count": 3,
   "metadata": {},
   "outputs": [],
   "source": [
    "# bring in EV Data\n",
    "\n",
    "ev_raw = pd.read_csv('./app/data_files/ev_car_final.csv',index_col=0)\n",
    "\n",
    "ev_raw,ev_range,ev_df = ev_data(ev_raw)\n",
    "\n",
    "# US Zip Code and Lat / Long Dataset    \n",
    "us_zip_lat_long_data = pd.read_csv('./app/data_files/us_zip_code_lat_long.csv'\n",
    "                                   ,dtype={'ZIP': str,'LAT': float,'LNG': float})"
   ]
  },
  {
   "cell_type": "code",
   "execution_count": 23,
   "metadata": {},
   "outputs": [
    {
     "data": {
      "text/plain": [
       "array(['00601', '00602', '00603', ..., '99926', '99927', '99929'],\n",
       "      dtype=object)"
      ]
     },
     "execution_count": 23,
     "metadata": {},
     "output_type": "execute_result"
    }
   ],
   "source": [
    "us_zip_lat_long_data['ZIP'].unique()"
   ]
  },
  {
   "cell_type": "code",
   "execution_count": 22,
   "metadata": {
    "scrolled": false
   },
   "outputs": [
    {
     "data": {
      "text/plain": [
       "array(['Aiways', 'Audi', 'BMW', 'Byton', 'Citroen', 'CUPRA', 'Dacia',\n",
       "       'DS 3', 'Fiat', 'Ford', 'Honda', 'Hyundai', 'Hyundai ', 'Jaguar',\n",
       "       'Kia', 'Kia ', 'Lexus', 'Lightyear', 'Lucid Air', 'Mazda',\n",
       "       'Mercedes', 'Mercedes ', 'MG', 'MG ', 'Mini', 'Nissan', 'Opel',\n",
       "       'Peugeot', 'Polestar', 'Porsche', 'Renault', 'SEAT', 'Skoda',\n",
       "       'Skoda ', 'Smart', 'Sono', 'Tesla', 'Tesla ', 'Toyota',\n",
       "       'Volkswagen', 'Volvo'], dtype=object)"
      ]
     },
     "execution_count": 22,
     "metadata": {},
     "output_type": "execute_result"
    }
   ],
   "source": [
    "# # Get distinct Brands\n",
    "brands = ev_df['Brand'].unique()\n",
    "brands"
   ]
  },
  {
   "cell_type": "code",
   "execution_count": 5,
   "metadata": {},
   "outputs": [],
   "source": [
    "# # ev_df.loc[(ev_df['Brand']== 'Ford')]\n",
    "# brand_1 = 'Tesla'\n",
    "# # brand_2 = 'Volkswagen'"
   ]
  },
  {
   "cell_type": "code",
   "execution_count": 6,
   "metadata": {
    "scrolled": true
   },
   "outputs": [],
   "source": [
    "# # # Get Distinct models from brands\n",
    "# models = ev_df.index[(ev_df['Brand']== brand_1)].unique()\n",
    "# models"
   ]
  },
  {
   "cell_type": "code",
   "execution_count": 7,
   "metadata": {},
   "outputs": [],
   "source": [
    "## Car 1\n",
    "# brand_1 = 'Ford'\n",
    "car_1 = 'Mustang Mach-E SR AWD'\n",
    "\n",
    "## Car 2\n",
    "# brand_2 = 'Volkswagen'\n",
    "car_2 = 'ID.4 GTX'"
   ]
  },
  {
   "cell_type": "code",
   "execution_count": 8,
   "metadata": {},
   "outputs": [],
   "source": [
    "## Set Distiance\n",
    "range_1 = get_range(ev_range,car_1)\n",
    "range_2 = get_range(ev_range,car_2)"
   ]
  },
  {
   "cell_type": "code",
   "execution_count": 9,
   "metadata": {
    "scrolled": true
   },
   "outputs": [],
   "source": [
    "## Set Zip \n",
    "# zip_search = input(\"Zip: \")\n",
    "zip = '32026'"
   ]
  },
  {
   "cell_type": "code",
   "execution_count": 10,
   "metadata": {
    "scrolled": false
   },
   "outputs": [],
   "source": [
    "# Plot Map\n",
    "radius_map(zip,us_zip_lat_long_data,range_1,range_2)"
   ]
  },
  {
   "cell_type": "code",
   "execution_count": 24,
   "metadata": {},
   "outputs": [],
   "source": [
    "c_table = get_comparison_table(ev_df,car_1,car_2)"
   ]
  },
  {
   "cell_type": "code",
   "execution_count": 73,
   "metadata": {},
   "outputs": [],
   "source": [
    "a = c_table.to_dict()\n"
   ]
  },
  {
   "cell_type": "code",
   "execution_count": 75,
   "metadata": {},
   "outputs": [
    {
     "name": "stdout",
     "output_type": "stream",
     "text": [
      "Mustang Mach-E SR AWD {'Brand': 'Ford', 'Battery Size (kWh)': 68.0, 'Segment': 'D', 'Powertrian': 'AWD', 'BodyStyle': 'SUV', 'Seats': 5, '0 - 62 MPH (Sec)': '6.3', 'Top Speed (MPH)': '112', 'Range (Mi)': '200*', 'Efficiency (Wh/mi)': '330*', 'Euro': '€54,000'}\n",
      "ID.4 GTX {'Brand': 'Volkswagen', 'Battery Size (kWh)': 77.0, 'Segment': 'C', 'Powertrian': 'AWD', 'BodyStyle': 'SUV', 'Seats': 5, '0 - 62 MPH (Sec)': '6.2', 'Top Speed (MPH)': '112', 'Range (Mi)': '245', 'Efficiency (Wh/mi)': '310', 'Euro': '€50,415'}\n"
     ]
    }
   ],
   "source": [
    "for x,y in a.items():\n",
    "        print(x,y)"
   ]
  },
  {
   "cell_type": "code",
   "execution_count": 60,
   "metadata": {
    "scrolled": true
   },
   "outputs": [
    {
     "ename": "AttributeError",
     "evalue": "'tuple' object has no attribute 'items'",
     "output_type": "error",
     "traceback": [
      "\u001b[0;31m---------------------------------------------------------------------------\u001b[0m",
      "\u001b[0;31mAttributeError\u001b[0m                            Traceback (most recent call last)",
      "\u001b[0;32m<ipython-input-60-eb0c055104ab>\u001b[0m in \u001b[0;36m<module>\u001b[0;34m\u001b[0m\n\u001b[0;32m----> 1\u001b[0;31m \u001b[0;32mfor\u001b[0m \u001b[0ma\u001b[0m \u001b[0;32min\u001b[0m \u001b[0ma\u001b[0m\u001b[0;34m.\u001b[0m\u001b[0mitems\u001b[0m\u001b[0;34m(\u001b[0m\u001b[0;34m)\u001b[0m\u001b[0;34m:\u001b[0m\u001b[0;34m\u001b[0m\u001b[0;34m\u001b[0m\u001b[0m\n\u001b[0m\u001b[1;32m      2\u001b[0m         \u001b[0mprint\u001b[0m\u001b[0;34m(\u001b[0m\u001b[0mx\u001b[0m\u001b[0;34m,\u001b[0m\u001b[0my\u001b[0m\u001b[0;34m)\u001b[0m\u001b[0;34m\u001b[0m\u001b[0;34m\u001b[0m\u001b[0m\n",
      "\u001b[0;31mAttributeError\u001b[0m: 'tuple' object has no attribute 'items'"
     ]
    }
   ],
   "source": [
    "for a in a.items():\n",
    "        print(x,y)"
   ]
  },
  {
   "cell_type": "code",
   "execution_count": 59,
   "metadata": {
    "scrolled": true
   },
   "outputs": [
    {
     "name": "stdout",
     "output_type": "stream",
     "text": [
      "Mustang Mach-E SR AWD\n",
      "{'Brand': 'Ford', 'Battery Size (kWh)': 68.0, 'Segment': 'D', 'Powertrian': 'AWD', 'BodyStyle': 'SUV', 'Seats': 5, '0 - 62 MPH (Sec)': '6.3', 'Top Speed (MPH)': '112', 'Range (Mi)': '200*', 'Efficiency (Wh/mi)': '330*', 'Euro': '€54,000'}\n",
      "ID.4 GTX\n",
      "{'Brand': 'Volkswagen', 'Battery Size (kWh)': 77.0, 'Segment': 'C', 'Powertrian': 'AWD', 'BodyStyle': 'SUV', 'Seats': 5, '0 - 62 MPH (Sec)': '6.2', 'Top Speed (MPH)': '112', 'Range (Mi)': '245', 'Efficiency (Wh/mi)': '310', 'Euro': '€50,415'}\n"
     ]
    }
   ],
   "source": [
    "for a in a.items():\n",
    "    for b in a:\n",
    "        print(b)"
   ]
  },
  {
   "cell_type": "code",
   "execution_count": 50,
   "metadata": {},
   "outputs": [
    {
     "name": "stdout",
     "output_type": "stream",
     "text": [
      "M\n",
      "u\n",
      "s\n",
      "t\n",
      "a\n",
      "n\n",
      "g\n",
      " \n",
      "M\n",
      "a\n",
      "c\n",
      "h\n",
      "-\n",
      "E\n",
      " \n",
      "S\n",
      "R\n",
      " \n",
      "A\n",
      "W\n",
      "D\n",
      "Brand\n",
      "Battery Size (kWh)\n",
      "Segment\n",
      "Powertrian\n",
      "BodyStyle\n",
      "Seats\n",
      "0 - 62 MPH (Sec)\n",
      "Top Speed (MPH)\n",
      "Range (Mi)\n",
      "Efficiency (Wh/mi)\n",
      "Euro\n",
      "I\n",
      "D\n",
      ".\n",
      "4\n",
      " \n",
      "G\n",
      "T\n",
      "X\n",
      "Brand\n",
      "Battery Size (kWh)\n",
      "Segment\n",
      "Powertrian\n",
      "BodyStyle\n",
      "Seats\n",
      "0 - 62 MPH (Sec)\n",
      "Top Speed (MPH)\n",
      "Range (Mi)\n",
      "Efficiency (Wh/mi)\n",
      "Euro\n"
     ]
    }
   ],
   "source": [
    "for a in a.items():\n",
    "    for b in a:\n",
    "            for c in b:\n",
    "                print(c)"
   ]
  },
  {
   "cell_type": "code",
   "execution_count": 40,
   "metadata": {},
   "outputs": [
    {
     "name": "stdout",
     "output_type": "stream",
     "text": [
      "Mustang Mach-E SR AWD\n",
      "ID.4 GTX\n"
     ]
    }
   ],
   "source": [
    "for a in a:\n",
    "    print(a)"
   ]
  },
  {
   "cell_type": "code",
   "execution_count": 11,
   "metadata": {
    "scrolled": true
   },
   "outputs": [],
   "source": [
    "# # formatted_table(comparison_table)\n",
    "# display(get_comparison_table(ev_df,car_1,car_2))\n",
    "# print(\"*** shaded values are etimates ***\")"
   ]
  },
  {
   "cell_type": "code",
   "execution_count": 12,
   "metadata": {},
   "outputs": [],
   "source": [
    "# get_comparison_table(ev_df,car_1,car_2)"
   ]
  },
  {
   "cell_type": "code",
   "execution_count": null,
   "metadata": {
    "scrolled": false
   },
   "outputs": [],
   "source": []
  },
  {
   "cell_type": "code",
   "execution_count": 13,
   "metadata": {},
   "outputs": [],
   "source": [
    "# a = get_data_table(car_1,car_2)"
   ]
  },
  {
   "cell_type": "code",
   "execution_count": 14,
   "metadata": {},
   "outputs": [],
   "source": [
    "# (a[car_1][1]-a[car_2][1])"
   ]
  },
  {
   "cell_type": "code",
   "execution_count": 15,
   "metadata": {},
   "outputs": [],
   "source": [
    "# diff = []\n",
    "\n",
    "# for i in range(0,11):\n",
    "    \n",
    "#     try:\n",
    "#         b = (int(a[car_1][i])) - (int(a[car_2][i]))\n",
    "#     except:\n",
    "#         try:\n",
    "#             b = round((float(a[car_1][i].replace(\"*\",\"\"))) - (float(a[car_2][i].replace(\"*\",\"\"))),2)\n",
    "#         except:\n",
    "#             b = \"NA\"\n",
    "#     diff.append(b)"
   ]
  },
  {
   "cell_type": "code",
   "execution_count": 16,
   "metadata": {},
   "outputs": [],
   "source": [
    "# diff"
   ]
  },
  {
   "cell_type": "code",
   "execution_count": 17,
   "metadata": {
    "scrolled": true
   },
   "outputs": [],
   "source": [
    "# (float(a[car_1][1])) - (float(a[car_2][1]))"
   ]
  },
  {
   "cell_type": "code",
   "execution_count": 18,
   "metadata": {},
   "outputs": [],
   "source": [
    "# a[car_1]"
   ]
  },
  {
   "cell_type": "code",
   "execution_count": 19,
   "metadata": {},
   "outputs": [],
   "source": [
    "# (float(a[car_1][1].replace(\"*\",\"\"))) - (float(a[car_2][1].replace(\"*\",\"\")))"
   ]
  },
  {
   "cell_type": "code",
   "execution_count": 20,
   "metadata": {},
   "outputs": [],
   "source": [
    "# (int(a[car_1][2])) - (int(a[car_2][2]))\n",
    "# (float(a[car_1][2].replace(\"*\",\"\"))) - (float(a[car_2][2].replace(\"*\",\"\")))"
   ]
  }
 ],
 "metadata": {
  "kernelspec": {
   "display_name": "Python 3",
   "language": "python",
   "name": "python3"
  },
  "language_info": {
   "codemirror_mode": {
    "name": "ipython",
    "version": 3
   },
   "file_extension": ".py",
   "mimetype": "text/x-python",
   "name": "python",
   "nbconvert_exporter": "python",
   "pygments_lexer": "ipython3",
   "version": "3.8.5"
  }
 },
 "nbformat": 4,
 "nbformat_minor": 4
}
