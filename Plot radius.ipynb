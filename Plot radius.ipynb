{
 "cells": [
  {
   "cell_type": "code",
   "execution_count": 1,
   "metadata": {},
   "outputs": [],
   "source": [
    "import pandas as pd\n",
    "import numpy as np\n",
    "import plotly.graph_objects as go\n",
    "import requests, io, json\n",
    "import random\n",
    "import plotly.express as px\n",
    "\n",
    "import geopandas as gpd\n",
    "import shapely.geometry\n"
   ]
  },
  {
   "cell_type": "code",
   "execution_count": 2,
   "metadata": {},
   "outputs": [],
   "source": [
    "from ev import *\n",
    "from radius_map import *"
   ]
  },
  {
   "cell_type": "code",
   "execution_count": 3,
   "metadata": {},
   "outputs": [],
   "source": [
    "# bring in EV Data\n",
    "\n",
    "ev_raw = pd.read_csv('./app/data_files/ev_car_final.csv',index_col=0)\n",
    "\n",
    "ev_raw,ev_range,ev_df = ev_data(ev_raw)\n",
    "\n",
    "# US Zip Code and Lat / Long Dataset    \n",
    "us_zip_lat_long_data = pd.read_csv('./app/data_files/us_zip_code_lat_long.csv'\n",
    "                                   ,dtype={'ZIP': str,'LAT': float,'LNG': float})"
   ]
  },
  {
   "cell_type": "code",
   "execution_count": null,
   "metadata": {
    "scrolled": false
   },
   "outputs": [],
   "source": [
    "# # # Get distinct Brands\n",
    "# brands = ev_df['Brand'].unique()\n",
    "# brands"
   ]
  },
  {
   "cell_type": "code",
   "execution_count": null,
   "metadata": {},
   "outputs": [],
   "source": [
    "# # ev_df.loc[(ev_df['Brand']== 'Ford')]\n",
    "# brand_1 = 'Tesla'\n",
    "# # brand_2 = 'Volkswagen'"
   ]
  },
  {
   "cell_type": "code",
   "execution_count": null,
   "metadata": {
    "scrolled": true
   },
   "outputs": [],
   "source": [
    "# # # Get Distinct models from brands\n",
    "# models = ev_df.index[(ev_df['Brand']== brand_1)].unique()\n",
    "# models"
   ]
  },
  {
   "cell_type": "code",
   "execution_count": null,
   "metadata": {},
   "outputs": [],
   "source": [
    "## Car 1\n",
    "# brand_1 = 'Ford'\n",
    "car_1 = 'Mustang Mach-E SR AWD'\n",
    "\n",
    "## Car 2\n",
    "# brand_2 = 'Volkswagen'\n",
    "car_2 = 'ID.4 GTX'"
   ]
  },
  {
   "cell_type": "code",
   "execution_count": null,
   "metadata": {},
   "outputs": [],
   "source": [
    "## Set Distiance\n",
    "range_1 = get_range(ev_range,car_1)\n",
    "range_2 = get_range(ev_range,car_2)"
   ]
  },
  {
   "cell_type": "code",
   "execution_count": null,
   "metadata": {
    "scrolled": true
   },
   "outputs": [],
   "source": [
    "## Set Zip \n",
    "# zip_search = input(\"Zip: \")\n",
    "zip = '32026'"
   ]
  },
  {
   "cell_type": "code",
   "execution_count": null,
   "metadata": {
    "scrolled": false
   },
   "outputs": [],
   "source": [
    "# # Plot Map\n",
    "# radius_map(zip,us_zip_lat_long_data,range_1,range_2)"
   ]
  },
  {
   "cell_type": "code",
   "execution_count": null,
   "metadata": {},
   "outputs": [],
   "source": [
    "ev_raw.info()"
   ]
  },
  {
   "cell_type": "code",
   "execution_count": null,
   "metadata": {},
   "outputs": [],
   "source": [
    "# Subset columns to one needed for correlation recomendation system\n",
    "ev_df = ev_raw.iloc[:,[1,3,4,5,15,16,17,18]]\n",
    "\n",
    "# Convert cagetorical columns into numerical and transpose\n",
    "ev_df = pd.get_dummies(ev_df,drop_first = True).T\n",
    "\n",
    "# Get correlations of vehicles with other vehicles \n",
    "corr = ev_df.corr()\n",
    "\n",
    "# Set the diagonal values to nan\n",
    "np.fill_diagonal(corr.values, np.nan)\n",
    "\n",
    "# Get top 10 vehicles similar to  root vehicle\n",
    "top10 = np.argsort(-corr.values, axis=1)[:, :10]\n",
    "\n",
    "# Get correlation as numpy array for capturing values\n",
    "corr_values = corr.to_numpy()\n",
    "\n",
    "\n",
    "# Empty list\n",
    "ev_top = []\n",
    "\n",
    "\n",
    "# Loop through the top 10 correlations and build data frame\n",
    "\n",
    "for i in  range(len(top10)):\n",
    "        for j in range(len(top10[i])):\n",
    "#             print(\"Model:\", corr.columns[i])\n",
    "#             print(\"Comparison Model:\",corr.columns[order_top10[i][j]])\n",
    "#             print(\"Correlation:\",u[i][order_top10[i][j]])\n",
    "            \n",
    "            model =  corr.columns[i]\n",
    "            comparison_model =corr.columns[top10[i][j]]\n",
    "            correlation = corr_values[i][top10[i][j]]\n",
    "            \n",
    "            ev_top.append([model,comparison_model,correlation])\n",
    "            \n",
    "corr_final = pd.DataFrame(ev_top, columns=[\"Model\", \"Comparison Model\",\"Correlation\"])"
   ]
  },
  {
   "cell_type": "code",
   "execution_count": null,
   "metadata": {},
   "outputs": [],
   "source": [
    "\n",
    "similar_df = corr_final.loc[(df_test['Model']== 'Cybertruck Tri Motor')][[\"Comparison Model\",\"Correlation\"]]"
   ]
  },
  {
   "cell_type": "code",
   "execution_count": null,
   "metadata": {},
   "outputs": [],
   "source": [
    "similar_df"
   ]
  },
  {
   "cell_type": "code",
   "execution_count": 4,
   "metadata": {},
   "outputs": [],
   "source": [
    "corr_final = get_corr(ev_raw)"
   ]
  },
  {
   "cell_type": "code",
   "execution_count": 5,
   "metadata": {},
   "outputs": [],
   "source": [
    "car_id = 'Cybertruck Tri Motor'"
   ]
  },
  {
   "cell_type": "code",
   "execution_count": 9,
   "metadata": {},
   "outputs": [],
   "source": [
    "car_id = 'Mustang Mach-E SR RWD'"
   ]
  },
  {
   "cell_type": "code",
   "execution_count": 10,
   "metadata": {},
   "outputs": [
    {
     "data": {
      "text/html": [
       "<div>\n",
       "<style scoped>\n",
       "    .dataframe tbody tr th:only-of-type {\n",
       "        vertical-align: middle;\n",
       "    }\n",
       "\n",
       "    .dataframe tbody tr th {\n",
       "        vertical-align: top;\n",
       "    }\n",
       "\n",
       "    .dataframe thead th {\n",
       "        text-align: right;\n",
       "    }\n",
       "</style>\n",
       "<table border=\"1\" class=\"dataframe\">\n",
       "  <thead>\n",
       "    <tr style=\"text-align: right;\">\n",
       "      <th></th>\n",
       "      <th>Comparison Model</th>\n",
       "      <th>Correlation</th>\n",
       "    </tr>\n",
       "  </thead>\n",
       "  <tbody>\n",
       "    <tr>\n",
       "      <th>460</th>\n",
       "      <td>2 Standard Range Single Motor</td>\n",
       "      <td>0.999951</td>\n",
       "    </tr>\n",
       "    <tr>\n",
       "      <th>461</th>\n",
       "      <td>Born 150 kW - 62 kWh</td>\n",
       "      <td>0.999868</td>\n",
       "    </tr>\n",
       "    <tr>\n",
       "      <th>462</th>\n",
       "      <td>Born 170 kW - 62 kWh</td>\n",
       "      <td>0.999704</td>\n",
       "    </tr>\n",
       "    <tr>\n",
       "      <th>463</th>\n",
       "      <td>ID.3 Pro Performance</td>\n",
       "      <td>0.999699</td>\n",
       "    </tr>\n",
       "    <tr>\n",
       "      <th>464</th>\n",
       "      <td>Megane E-Tech EV60 220hp</td>\n",
       "      <td>0.999685</td>\n",
       "    </tr>\n",
       "    <tr>\n",
       "      <th>465</th>\n",
       "      <td>ID.3 Pro</td>\n",
       "      <td>0.999653</td>\n",
       "    </tr>\n",
       "    <tr>\n",
       "      <th>466</th>\n",
       "      <td>ID.4 GTX</td>\n",
       "      <td>0.999639</td>\n",
       "    </tr>\n",
       "    <tr>\n",
       "      <th>467</th>\n",
       "      <td>Enyaq iV RS</td>\n",
       "      <td>0.999639</td>\n",
       "    </tr>\n",
       "    <tr>\n",
       "      <th>468</th>\n",
       "      <td>Enyaq iV 60</td>\n",
       "      <td>0.999461</td>\n",
       "    </tr>\n",
       "    <tr>\n",
       "      <th>469</th>\n",
       "      <td>e-Niro 64 kWh</td>\n",
       "      <td>0.999374</td>\n",
       "    </tr>\n",
       "  </tbody>\n",
       "</table>\n",
       "</div>"
      ],
      "text/plain": [
       "                  Comparison Model  Correlation\n",
       "460  2 Standard Range Single Motor     0.999951\n",
       "461           Born 150 kW - 62 kWh     0.999868\n",
       "462           Born 170 kW - 62 kWh     0.999704\n",
       "463           ID.3 Pro Performance     0.999699\n",
       "464       Megane E-Tech EV60 220hp     0.999685\n",
       "465                       ID.3 Pro     0.999653\n",
       "466                       ID.4 GTX     0.999639\n",
       "467                    Enyaq iV RS     0.999639\n",
       "468                    Enyaq iV 60     0.999461\n",
       "469                  e-Niro 64 kWh     0.999374"
      ]
     },
     "execution_count": 10,
     "metadata": {},
     "output_type": "execute_result"
    }
   ],
   "source": [
    "get_similar(corr_final,car_id)"
   ]
  },
  {
   "cell_type": "code",
   "execution_count": 11,
   "metadata": {},
   "outputs": [
    {
     "data": {
      "text/html": [
       "<div>\n",
       "<style scoped>\n",
       "    .dataframe tbody tr th:only-of-type {\n",
       "        vertical-align: middle;\n",
       "    }\n",
       "\n",
       "    .dataframe tbody tr th {\n",
       "        vertical-align: top;\n",
       "    }\n",
       "\n",
       "    .dataframe thead th {\n",
       "        text-align: right;\n",
       "    }\n",
       "</style>\n",
       "<table border=\"1\" class=\"dataframe\">\n",
       "  <thead>\n",
       "    <tr style=\"text-align: right;\">\n",
       "      <th></th>\n",
       "      <th>Brand</th>\n",
       "      <th>Battery Size (kWh)</th>\n",
       "      <th>Segment</th>\n",
       "      <th>Powertrian</th>\n",
       "      <th>BodyStyle</th>\n",
       "      <th>Seats</th>\n",
       "      <th>0 - 62 MPH (Sec)</th>\n",
       "      <th>Top Speed (MPH)</th>\n",
       "      <th>Range (Mi)</th>\n",
       "      <th>Efficiency (Wh/mi)</th>\n",
       "      <th>Euro</th>\n",
       "    </tr>\n",
       "    <tr>\n",
       "      <th>Model</th>\n",
       "      <th></th>\n",
       "      <th></th>\n",
       "      <th></th>\n",
       "      <th></th>\n",
       "      <th></th>\n",
       "      <th></th>\n",
       "      <th></th>\n",
       "      <th></th>\n",
       "      <th></th>\n",
       "      <th></th>\n",
       "      <th></th>\n",
       "    </tr>\n",
       "  </thead>\n",
       "  <tbody>\n",
       "    <tr>\n",
       "      <th>U5</th>\n",
       "      <td>Aiways</td>\n",
       "      <td>63.0</td>\n",
       "      <td>C</td>\n",
       "      <td>FWD</td>\n",
       "      <td>SUV</td>\n",
       "      <td>5</td>\n",
       "      <td>7.5</td>\n",
       "      <td>93*</td>\n",
       "      <td>210*</td>\n",
       "      <td>300*</td>\n",
       "      <td>€35,993</td>\n",
       "    </tr>\n",
       "    <tr>\n",
       "      <th>e-tron 50 quattro</th>\n",
       "      <td>Audi</td>\n",
       "      <td>64.7</td>\n",
       "      <td>E</td>\n",
       "      <td>AWD</td>\n",
       "      <td>SUV</td>\n",
       "      <td>5</td>\n",
       "      <td>6.8</td>\n",
       "      <td>118</td>\n",
       "      <td>260</td>\n",
       "      <td>365</td>\n",
       "      <td>€69,100</td>\n",
       "    </tr>\n",
       "    <tr>\n",
       "      <th>e-tron 55 quattro</th>\n",
       "      <td>Audi</td>\n",
       "      <td>86.5</td>\n",
       "      <td>E</td>\n",
       "      <td>AWD</td>\n",
       "      <td>SUV</td>\n",
       "      <td>5</td>\n",
       "      <td>5.7</td>\n",
       "      <td>124</td>\n",
       "      <td>250</td>\n",
       "      <td>380</td>\n",
       "      <td>€79,445</td>\n",
       "    </tr>\n",
       "    <tr>\n",
       "      <th>e-tron GT quattro</th>\n",
       "      <td>Audi</td>\n",
       "      <td>85.0</td>\n",
       "      <td>F</td>\n",
       "      <td>AWD</td>\n",
       "      <td>Sedan</td>\n",
       "      <td>4</td>\n",
       "      <td>4.1</td>\n",
       "      <td>152</td>\n",
       "      <td>205*</td>\n",
       "      <td>325*</td>\n",
       "      <td>€99,800</td>\n",
       "    </tr>\n",
       "    <tr>\n",
       "      <th>e-tron GT RS</th>\n",
       "      <td>Audi</td>\n",
       "      <td>85.0</td>\n",
       "      <td>F</td>\n",
       "      <td>AWD</td>\n",
       "      <td>Sedan</td>\n",
       "      <td>4</td>\n",
       "      <td>3.3</td>\n",
       "      <td>155</td>\n",
       "      <td>175*</td>\n",
       "      <td>340*</td>\n",
       "      <td>€138,200</td>\n",
       "    </tr>\n",
       "    <tr>\n",
       "      <th>...</th>\n",
       "      <td>...</td>\n",
       "      <td>...</td>\n",
       "      <td>...</td>\n",
       "      <td>...</td>\n",
       "      <td>...</td>\n",
       "      <td>...</td>\n",
       "      <td>...</td>\n",
       "      <td>...</td>\n",
       "      <td>...</td>\n",
       "      <td>...</td>\n",
       "      <td>...</td>\n",
       "    </tr>\n",
       "    <tr>\n",
       "      <th>ID.4 Pure</th>\n",
       "      <td>Volkswagen</td>\n",
       "      <td>52.0</td>\n",
       "      <td>C</td>\n",
       "      <td>RWD</td>\n",
       "      <td>SUV</td>\n",
       "      <td>5</td>\n",
       "      <td>10.9</td>\n",
       "      <td>99</td>\n",
       "      <td>175</td>\n",
       "      <td>295</td>\n",
       "      <td>€36,950</td>\n",
       "    </tr>\n",
       "    <tr>\n",
       "      <th>ID.4 Pure Performance</th>\n",
       "      <td>Volkswagen</td>\n",
       "      <td>52.0</td>\n",
       "      <td>C</td>\n",
       "      <td>RWD</td>\n",
       "      <td>SUV</td>\n",
       "      <td>5</td>\n",
       "      <td>9</td>\n",
       "      <td>99</td>\n",
       "      <td>175</td>\n",
       "      <td>295</td>\n",
       "      <td>€38,450</td>\n",
       "    </tr>\n",
       "    <tr>\n",
       "      <th>C40 Recharge</th>\n",
       "      <td>Volvo</td>\n",
       "      <td>75.0</td>\n",
       "      <td>C</td>\n",
       "      <td>AWD</td>\n",
       "      <td>SUV</td>\n",
       "      <td>5</td>\n",
       "      <td>4.7</td>\n",
       "      <td>112</td>\n",
       "      <td>210</td>\n",
       "      <td>355*</td>\n",
       "      <td>€62,050</td>\n",
       "    </tr>\n",
       "    <tr>\n",
       "      <th>XC40 Recharge Pure Electric</th>\n",
       "      <td>Volvo</td>\n",
       "      <td>67.0</td>\n",
       "      <td>C</td>\n",
       "      <td>FWD</td>\n",
       "      <td>SUV</td>\n",
       "      <td>5</td>\n",
       "      <td>7.4</td>\n",
       "      <td>99*</td>\n",
       "      <td>195</td>\n",
       "      <td>340</td>\n",
       "      <td>€48,650</td>\n",
       "    </tr>\n",
       "    <tr>\n",
       "      <th>XC40 Recharge Twin Pure Electric</th>\n",
       "      <td>Volvo</td>\n",
       "      <td>76.0</td>\n",
       "      <td>C</td>\n",
       "      <td>AWD</td>\n",
       "      <td>SUV</td>\n",
       "      <td>5</td>\n",
       "      <td>4.9</td>\n",
       "      <td>112</td>\n",
       "      <td>210</td>\n",
       "      <td>355</td>\n",
       "      <td>€59,250</td>\n",
       "    </tr>\n",
       "  </tbody>\n",
       "</table>\n",
       "<p>176 rows × 11 columns</p>\n",
       "</div>"
      ],
      "text/plain": [
       "                                       Brand  Battery Size (kWh) Segment  \\\n",
       "Model                                                                      \n",
       "U5                                    Aiways                63.0       C   \n",
       "e-tron 50 quattro                       Audi                64.7       E   \n",
       "e-tron 55 quattro                       Audi                86.5       E   \n",
       "e-tron GT quattro                       Audi                85.0       F   \n",
       "e-tron GT RS                            Audi                85.0       F   \n",
       "...                                      ...                 ...     ...   \n",
       "ID.4 Pure                         Volkswagen                52.0       C   \n",
       "ID.4 Pure Performance             Volkswagen                52.0       C   \n",
       "C40 Recharge                           Volvo                75.0       C   \n",
       "XC40 Recharge Pure Electric            Volvo                67.0       C   \n",
       "XC40 Recharge Twin Pure Electric       Volvo                76.0       C   \n",
       "\n",
       "                                 Powertrian BodyStyle  Seats 0 - 62 MPH (Sec)  \\\n",
       "Model                                                                           \n",
       "U5                                      FWD       SUV      5              7.5   \n",
       "e-tron 50 quattro                       AWD       SUV      5              6.8   \n",
       "e-tron 55 quattro                       AWD       SUV      5              5.7   \n",
       "e-tron GT quattro                       AWD     Sedan      4              4.1   \n",
       "e-tron GT RS                            AWD     Sedan      4              3.3   \n",
       "...                                     ...       ...    ...              ...   \n",
       "ID.4 Pure                               RWD       SUV      5             10.9   \n",
       "ID.4 Pure Performance                   RWD       SUV      5                9   \n",
       "C40 Recharge                            AWD       SUV      5              4.7   \n",
       "XC40 Recharge Pure Electric             FWD       SUV      5              7.4   \n",
       "XC40 Recharge Twin Pure Electric        AWD       SUV      5              4.9   \n",
       "\n",
       "                                 Top Speed (MPH) Range (Mi)  \\\n",
       "Model                                                         \n",
       "U5                                           93*       210*   \n",
       "e-tron 50 quattro                            118        260   \n",
       "e-tron 55 quattro                            124        250   \n",
       "e-tron GT quattro                            152       205*   \n",
       "e-tron GT RS                                 155       175*   \n",
       "...                                          ...        ...   \n",
       "ID.4 Pure                                     99        175   \n",
       "ID.4 Pure Performance                         99        175   \n",
       "C40 Recharge                                 112        210   \n",
       "XC40 Recharge Pure Electric                  99*        195   \n",
       "XC40 Recharge Twin Pure Electric             112        210   \n",
       "\n",
       "                                 Efficiency (Wh/mi)      Euro  \n",
       "Model                                                          \n",
       "U5                                             300*   €35,993  \n",
       "e-tron 50 quattro                               365   €69,100  \n",
       "e-tron 55 quattro                               380   €79,445  \n",
       "e-tron GT quattro                              325*   €99,800  \n",
       "e-tron GT RS                                   340*  €138,200  \n",
       "...                                             ...       ...  \n",
       "ID.4 Pure                                       295   €36,950  \n",
       "ID.4 Pure Performance                           295   €38,450  \n",
       "C40 Recharge                                   355*   €62,050  \n",
       "XC40 Recharge Pure Electric                     340   €48,650  \n",
       "XC40 Recharge Twin Pure Electric                355   €59,250  \n",
       "\n",
       "[176 rows x 11 columns]"
      ]
     },
     "execution_count": 11,
     "metadata": {},
     "output_type": "execute_result"
    }
   ],
   "source": [
    "ev_df"
   ]
  },
  {
   "cell_type": "code",
   "execution_count": null,
   "metadata": {},
   "outputs": [],
   "source": []
  },
  {
   "cell_type": "code",
   "execution_count": null,
   "metadata": {},
   "outputs": [],
   "source": []
  },
  {
   "cell_type": "code",
   "execution_count": null,
   "metadata": {},
   "outputs": [],
   "source": [
    "corr = ev_df.corr()"
   ]
  },
  {
   "cell_type": "code",
   "execution_count": null,
   "metadata": {},
   "outputs": [],
   "source": [
    "order_top10 = np.argsort(-corr.values, axis=1)[:, :10]"
   ]
  },
  {
   "cell_type": "code",
   "execution_count": null,
   "metadata": {},
   "outputs": [],
   "source": [
    "u = corr.to_numpy()"
   ]
  },
  {
   "cell_type": "code",
   "execution_count": null,
   "metadata": {
    "scrolled": true
   },
   "outputs": [],
   "source": [
    "ev_top = []\n",
    "\n",
    "for i in  range(len(order_top10)):\n",
    "        for j in range(len(order_top10[i])):\n",
    "#             print(\"Model:\", corr.columns[i])\n",
    "#             print(\"Comparison Model:\",corr.columns[order_top10[i][j]])\n",
    "#             print(\"Correlation:\",u[i][order_top10[i][j]])\n",
    "            \n",
    "            model =  corr.columns[i]\n",
    "            comparison_model =corr.columns[order_top10[i][j]]\n",
    "            correlation = u[i][order_top10[i][j]]\n",
    "            \n",
    "            ev_top.append([model,comparison_model,correlation])\n",
    "            \n",
    "df_test = pd.DataFrame(ev_top, columns=[\"Model\", \"Comparison Model\",\"Correlation\"])"
   ]
  },
  {
   "cell_type": "code",
   "execution_count": null,
   "metadata": {},
   "outputs": [],
   "source": [
    "df_test"
   ]
  },
  {
   "cell_type": "code",
   "execution_count": null,
   "metadata": {},
   "outputs": [],
   "source": [
    "ev_top = []\n",
    "\n",
    "for i in  range(len(d_test)):\n",
    "        for j in range(len(d_test[i])):\n",
    "            \n",
    "            model =  corr.columns[i]\n",
    "            comparison_model =corr.columns[d_test[i][j]]\n",
    "            correlation = u[i][d_test[i][j]]\n",
    "            \n",
    "            ev_top.append([model,comparison_model,correlation])\n",
    "            \n",
    "df_test = pd.DataFrame(ev_top, columns=[\"Model\", \"Comparison Model\",\"Correlation\"])"
   ]
  },
  {
   "cell_type": "code",
   "execution_count": null,
   "metadata": {},
   "outputs": [],
   "source": [
    "df_test"
   ]
  },
  {
   "cell_type": "code",
   "execution_count": null,
   "metadata": {},
   "outputs": [],
   "source": [
    "order_top10[2]"
   ]
  },
  {
   "cell_type": "code",
   "execution_count": null,
   "metadata": {},
   "outputs": [],
   "source": [
    "g = order_top10[2]"
   ]
  },
  {
   "cell_type": "code",
   "execution_count": null,
   "metadata": {},
   "outputs": [],
   "source": [
    "corr.columns[order_top10][2][2]"
   ]
  },
  {
   "cell_type": "code",
   "execution_count": null,
   "metadata": {},
   "outputs": [],
   "source": [
    "corr.to_numpy()[2][2]"
   ]
  },
  {
   "cell_type": "code",
   "execution_count": null,
   "metadata": {
    "scrolled": true
   },
   "outputs": [],
   "source": [
    "for i in order_top10[1]:\n",
    "    print(corr.columns[i])\n",
    "    print(u[1][i])"
   ]
  },
  {
   "cell_type": "code",
   "execution_count": null,
   "metadata": {
    "scrolled": true
   },
   "outputs": [],
   "source": [
    "for j in order_top10[1]:\n",
    "    print(corr.columns[1])\n",
    "    \n",
    "    for i in order_top10[1]:\n",
    "        print(corr.columns[i])\n",
    "        print(u[1][i])"
   ]
  },
  {
   "cell_type": "code",
   "execution_count": null,
   "metadata": {},
   "outputs": [],
   "source": [
    "u = corr.to_numpy()"
   ]
  },
  {
   "cell_type": "code",
   "execution_count": null,
   "metadata": {},
   "outputs": [],
   "source": [
    "d_test = order_top10[:5]"
   ]
  },
  {
   "cell_type": "code",
   "execution_count": null,
   "metadata": {},
   "outputs": [],
   "source": [
    "order_top10[0][1]"
   ]
  },
  {
   "cell_type": "code",
   "execution_count": null,
   "metadata": {
    "scrolled": false
   },
   "outputs": [],
   "source": [
    "for i in order_top10[0]:\n",
    "    print(corr.columns[i])\n",
    "    print(u[0][i])"
   ]
  },
  {
   "cell_type": "code",
   "execution_count": null,
   "metadata": {},
   "outputs": [],
   "source": [
    "d_test[0][1]"
   ]
  },
  {
   "cell_type": "code",
   "execution_count": null,
   "metadata": {},
   "outputs": [],
   "source": [
    "d_test"
   ]
  },
  {
   "cell_type": "code",
   "execution_count": null,
   "metadata": {},
   "outputs": [],
   "source": [
    "rows = []\n",
    "for i in range(3):\n",
    "     rows.append([i, i + 1])"
   ]
  },
  {
   "cell_type": "code",
   "execution_count": null,
   "metadata": {
    "scrolled": false
   },
   "outputs": [],
   "source": [
    "ev_top = []\n",
    "\n",
    "for i in  range(len(d_test)):\n",
    "        for j in range(len(d_test[i])):\n",
    "            print(\"Model:\", corr.columns[i])\n",
    "            print(\"Comparison Model:\",corr.columns[d_test[i][j]])\n",
    "            print(\"Correlation:\",u[i][d_test[i][j]])\n",
    "            \n",
    "            model =  corr.columns[i]\n",
    "            comparison_model =corr.columns[d_test[i][j]]\n",
    "            correlation = u[i][d_test[i][j]]\n",
    "            \n",
    "            ev_top.append([model,comparison_model,correlation])\n",
    "            \n",
    "df_test = pd.DataFrame(ev_top, columns=[\"Model\", \"Comparison Model\",\"Correlation\"])"
   ]
  },
  {
   "cell_type": "code",
   "execution_count": null,
   "metadata": {},
   "outputs": [],
   "source": [
    "df_test"
   ]
  },
  {
   "cell_type": "code",
   "execution_count": null,
   "metadata": {
    "scrolled": false
   },
   "outputs": [],
   "source": [
    "for i in d_test:\n",
    "        for j in d_test[i]:\n",
    "            print(corr.columns[i])\n",
    "#             print(u[i][d_test[i][j]])"
   ]
  },
  {
   "cell_type": "code",
   "execution_count": null,
   "metadata": {},
   "outputs": [],
   "source": [
    "d_test"
   ]
  },
  {
   "cell_type": "code",
   "execution_count": null,
   "metadata": {},
   "outputs": [],
   "source": [
    "len(d_test)"
   ]
  },
  {
   "cell_type": "code",
   "execution_count": null,
   "metadata": {},
   "outputs": [],
   "source": [
    "len(d_test[1])"
   ]
  },
  {
   "cell_type": "code",
   "execution_count": null,
   "metadata": {},
   "outputs": [],
   "source": [
    "corr.columns[1]"
   ]
  },
  {
   "cell_type": "code",
   "execution_count": null,
   "metadata": {},
   "outputs": [],
   "source": []
  },
  {
   "cell_type": "code",
   "execution_count": null,
   "metadata": {},
   "outputs": [],
   "source": [
    "h = similar[similar < 1].unstack().transpose().drop_duplicates()"
   ]
  },
  {
   "cell_type": "code",
   "execution_count": null,
   "metadata": {},
   "outputs": [],
   "source": [
    "similar = ev_df.corr()\n",
    "np.fill_diagonal(similar.values, np.nan)"
   ]
  },
  {
   "cell_type": "code",
   "execution_count": null,
   "metadata": {},
   "outputs": [],
   "source": [
    "order_top10 = np.argsort(-similar.values, axis=1)[:, :10]"
   ]
  },
  {
   "cell_type": "code",
   "execution_count": null,
   "metadata": {},
   "outputs": [],
   "source": [
    "order_top10"
   ]
  },
  {
   "cell_type": "code",
   "execution_count": null,
   "metadata": {
    "scrolled": true
   },
   "outputs": [],
   "source": [
    "result_top10 = pd.DataFrame(\n",
    "    similar.columns[order_top10], \n",
    "    columns=['1st', '2nd','3rd','4th','5th','6th','7th','8th','9th','10th'],\n",
    "    index=similar.index\n",
    ")"
   ]
  },
  {
   "cell_type": "code",
   "execution_count": null,
   "metadata": {
    "scrolled": false
   },
   "outputs": [],
   "source": [
    "result_top10"
   ]
  },
  {
   "cell_type": "code",
   "execution_count": null,
   "metadata": {},
   "outputs": [],
   "source": [
    "# similar.reset_index(inplace=True)\n",
    "similar.rename_axis(\"index\",  inplace=True)"
   ]
  },
  {
   "cell_type": "code",
   "execution_count": null,
   "metadata": {},
   "outputs": [],
   "source": [
    "similar"
   ]
  },
  {
   "cell_type": "code",
   "execution_count": null,
   "metadata": {
    "scrolled": true
   },
   "outputs": [],
   "source": [
    "for x in result_top10.columns:\n",
    "    result_top10[x+\"_Val\"] = similar.lookup(similar.index, result_top10[x])"
   ]
  },
  {
   "cell_type": "code",
   "execution_count": null,
   "metadata": {
    "scrolled": true
   },
   "outputs": [],
   "source": [
    "for x in result_top10.columns:\n",
    "    print(x)"
   ]
  },
  {
   "cell_type": "code",
   "execution_count": null,
   "metadata": {},
   "outputs": [],
   "source": [
    "similar = similar.set_index(df[\"index\"]).drop(columns=\"index\")"
   ]
  },
  {
   "cell_type": "code",
   "execution_count": null,
   "metadata": {
    "scrolled": true
   },
   "outputs": [],
   "source": [
    "similar.lookup(similar.index, result_top10['1st'])"
   ]
  },
  {
   "cell_type": "code",
   "execution_count": null,
   "metadata": {},
   "outputs": [],
   "source": []
  },
  {
   "cell_type": "code",
   "execution_count": null,
   "metadata": {
    "scrolled": true
   },
   "outputs": [],
   "source": [
    "similar[similar < .999999]"
   ]
  },
  {
   "cell_type": "code",
   "execution_count": null,
   "metadata": {},
   "outputs": [],
   "source": [
    "similar[similar < 1]"
   ]
  },
  {
   "cell_type": "code",
   "execution_count": null,
   "metadata": {},
   "outputs": [],
   "source": []
  },
  {
   "cell_type": "code",
   "execution_count": null,
   "metadata": {
    "scrolled": true
   },
   "outputs": [],
   "source": [
    "h = similar[similar < 1].unstack().transpose().drop_duplicates()"
   ]
  },
  {
   "cell_type": "code",
   "execution_count": null,
   "metadata": {},
   "outputs": [],
   "source": [
    "h"
   ]
  },
  {
   "cell_type": "code",
   "execution_count": null,
   "metadata": {
    "scrolled": true
   },
   "outputs": [],
   "source": [
    "h.to_frame()"
   ]
  },
  {
   "cell_type": "code",
   "execution_count": null,
   "metadata": {},
   "outputs": [],
   "source": [
    "df = similar[similar < 1].unstack().transpose()\n",
    "    "
   ]
  },
  {
   "cell_type": "code",
   "execution_count": null,
   "metadata": {},
   "outputs": [],
   "source": [
    "df = df.to_frame()"
   ]
  },
  {
   "cell_type": "code",
   "execution_count": null,
   "metadata": {},
   "outputs": [],
   "source": [
    "df.index.set_names([\"Model\", \"Comparison Model\"], inplace=True)"
   ]
  },
  {
   "cell_type": "code",
   "execution_count": null,
   "metadata": {},
   "outputs": [],
   "source": [
    "df.loc[\"Taycan Turbo\"]"
   ]
  },
  {
   "cell_type": "code",
   "execution_count": null,
   "metadata": {
    "scrolled": false
   },
   "outputs": [],
   "source": [
    "df"
   ]
  },
  {
   "cell_type": "code",
   "execution_count": null,
   "metadata": {
    "scrolled": true
   },
   "outputs": [],
   "source": [
    "df.info()"
   ]
  },
  {
   "cell_type": "code",
   "execution_count": null,
   "metadata": {},
   "outputs": [],
   "source": [
    ".unstack().transpose()\\\n",
    "    .sort_values( ascending=False)\\\n",
    "    .drop_duplicates()"
   ]
  },
  {
   "cell_type": "code",
   "execution_count": null,
   "metadata": {
    "scrolled": true
   },
   "outputs": [],
   "source": [
    "# https://towardsdatascience.com/recommender-system-in-python-part-2-content-based-system-693a0e4bb306\n",
    "def get_similar_movies(movie_title, n_ratings_filter=100, n_recommendations=5):\n",
    "    similar = matrix.corrwith(matrix[movie_title])\n",
    "    corr_similar = pd.DataFrame(similar, columns=['correlation'])\n",
    "    corr_similar.dropna(inplace=True)\n",
    "    \n",
    "    orig = data.copy()\n",
    "    \n",
    "    corr_with_movie = pd.merge(\n",
    "        left=corr_similar, \n",
    "        right=orig, \n",
    "        on='title')[['title', 'correlation', 'numRatings']].drop_duplicates().reset_index(drop=True)\n",
    "    \n",
    "    result = corr_with_movie[corr_with_movie['numRatings'] > n_ratings_filter].sort_values(by='correlation', ascending=False)\n",
    "    \n",
    "    return result.head(n_recommendations)"
   ]
  },
  {
   "cell_type": "code",
   "execution_count": null,
   "metadata": {
    "scrolled": true
   },
   "outputs": [],
   "source": []
  },
  {
   "cell_type": "code",
   "execution_count": null,
   "metadata": {},
   "outputs": [],
   "source": []
  },
  {
   "cell_type": "code",
   "execution_count": null,
   "metadata": {},
   "outputs": [],
   "source": []
  },
  {
   "cell_type": "code",
   "execution_count": null,
   "metadata": {
    "scrolled": true
   },
   "outputs": [],
   "source": [
    "# # formatted_table(comparison_table)\n",
    "# display(get_comparison_table(ev_df,car_1,car_2))\n",
    "# print(\"*** shaded values are etimates ***\")"
   ]
  },
  {
   "cell_type": "code",
   "execution_count": null,
   "metadata": {},
   "outputs": [],
   "source": [
    "# get_comparison_table(ev_df,car_1,car_2)"
   ]
  },
  {
   "cell_type": "code",
   "execution_count": null,
   "metadata": {
    "scrolled": false
   },
   "outputs": [],
   "source": []
  },
  {
   "cell_type": "code",
   "execution_count": null,
   "metadata": {},
   "outputs": [],
   "source": [
    "# a = get_data_table(car_1,car_2)"
   ]
  },
  {
   "cell_type": "code",
   "execution_count": null,
   "metadata": {},
   "outputs": [],
   "source": [
    "# (a[car_1][1]-a[car_2][1])"
   ]
  },
  {
   "cell_type": "code",
   "execution_count": null,
   "metadata": {},
   "outputs": [],
   "source": [
    "# diff = []\n",
    "\n",
    "# for i in range(0,11):\n",
    "    \n",
    "#     try:\n",
    "#         b = (int(a[car_1][i])) - (int(a[car_2][i]))\n",
    "#     except:\n",
    "#         try:\n",
    "#             b = round((float(a[car_1][i].replace(\"*\",\"\"))) - (float(a[car_2][i].replace(\"*\",\"\"))),2)\n",
    "#         except:\n",
    "#             b = \"NA\"\n",
    "#     diff.append(b)"
   ]
  },
  {
   "cell_type": "code",
   "execution_count": null,
   "metadata": {},
   "outputs": [],
   "source": [
    "# diff"
   ]
  },
  {
   "cell_type": "code",
   "execution_count": null,
   "metadata": {
    "scrolled": true
   },
   "outputs": [],
   "source": [
    "# (float(a[car_1][1])) - (float(a[car_2][1]))"
   ]
  },
  {
   "cell_type": "code",
   "execution_count": null,
   "metadata": {},
   "outputs": [],
   "source": [
    "# a[car_1]"
   ]
  },
  {
   "cell_type": "code",
   "execution_count": null,
   "metadata": {},
   "outputs": [],
   "source": [
    "# (float(a[car_1][1].replace(\"*\",\"\"))) - (float(a[car_2][1].replace(\"*\",\"\")))"
   ]
  },
  {
   "cell_type": "code",
   "execution_count": null,
   "metadata": {},
   "outputs": [],
   "source": [
    "# (int(a[car_1][2])) - (int(a[car_2][2]))\n",
    "# (float(a[car_1][2].replace(\"*\",\"\"))) - (float(a[car_2][2].replace(\"*\",\"\")))"
   ]
  }
 ],
 "metadata": {
  "kernelspec": {
   "display_name": "Python 3",
   "language": "python",
   "name": "python3"
  },
  "language_info": {
   "codemirror_mode": {
    "name": "ipython",
    "version": 3
   },
   "file_extension": ".py",
   "mimetype": "text/x-python",
   "name": "python",
   "nbconvert_exporter": "python",
   "pygments_lexer": "ipython3",
   "version": "3.8.5"
  }
 },
 "nbformat": 4,
 "nbformat_minor": 4
}
