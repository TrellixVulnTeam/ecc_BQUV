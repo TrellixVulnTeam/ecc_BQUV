{
 "cells": [
  {
   "cell_type": "code",
   "execution_count": 1,
   "metadata": {},
   "outputs": [
    {
     "ename": "ModuleNotFoundError",
     "evalue": "No module named 'plotly'",
     "output_type": "error",
     "traceback": [
      "\u001b[0;31m---------------------------------------------------------------------------\u001b[0m",
      "\u001b[0;31mModuleNotFoundError\u001b[0m                       Traceback (most recent call last)",
      "\u001b[0;32m<ipython-input-1-0f6357ab1fef>\u001b[0m in \u001b[0;36m<module>\u001b[0;34m\u001b[0m\n\u001b[1;32m      1\u001b[0m \u001b[0;32mimport\u001b[0m \u001b[0mpandas\u001b[0m \u001b[0;32mas\u001b[0m \u001b[0mpd\u001b[0m\u001b[0;34m\u001b[0m\u001b[0;34m\u001b[0m\u001b[0m\n\u001b[1;32m      2\u001b[0m \u001b[0;32mimport\u001b[0m \u001b[0mnumpy\u001b[0m \u001b[0;32mas\u001b[0m \u001b[0mnp\u001b[0m\u001b[0;34m\u001b[0m\u001b[0;34m\u001b[0m\u001b[0m\n\u001b[0;32m----> 3\u001b[0;31m \u001b[0;32mimport\u001b[0m \u001b[0mplotly\u001b[0m\u001b[0;34m.\u001b[0m\u001b[0mgraph_objects\u001b[0m \u001b[0;32mas\u001b[0m \u001b[0mgo\u001b[0m\u001b[0;34m\u001b[0m\u001b[0;34m\u001b[0m\u001b[0m\n\u001b[0m\u001b[1;32m      4\u001b[0m \u001b[0;32mimport\u001b[0m \u001b[0mrequests\u001b[0m\u001b[0;34m,\u001b[0m \u001b[0mio\u001b[0m\u001b[0;34m,\u001b[0m \u001b[0mjson\u001b[0m\u001b[0;34m\u001b[0m\u001b[0;34m\u001b[0m\u001b[0m\n\u001b[1;32m      5\u001b[0m \u001b[0;32mimport\u001b[0m \u001b[0mrandom\u001b[0m\u001b[0;34m\u001b[0m\u001b[0;34m\u001b[0m\u001b[0m\n",
      "\u001b[0;31mModuleNotFoundError\u001b[0m: No module named 'plotly'"
     ]
    }
   ],
   "source": [
    "import pandas as pd\n",
    "import numpy as np\n",
    "import plotly.graph_objects as go\n",
    "import requests, io, json\n",
    "import random\n",
    "import plotly.express as px\n",
    "import geopandas as gpd\n",
    "import shapely.geometry\n"
   ]
  },
  {
   "cell_type": "code",
   "execution_count": 2,
   "metadata": {},
   "outputs": [],
   "source": [
    "## Read in Data files and format\n",
    "\n",
    "# Electric Car Data Set\n",
    "ev_raw = pd.read_csv('ev_car_final.csv',index_col=0)\n",
    "\n",
    "ev_raw.set_index('Model', drop=True, inplace=True)\n",
    "\n",
    "ev_df = ev_raw[['Brand', 'Battery Size (kWh)', 'Segment', 'Powertrian',\n",
    "       'BodyStyle', 'Seats', '0 - 62 MPH (Sec)', 'Top Speed (MPH)',\n",
    "       'Range (Mi)', 'Efficiency (Wh/mi)', 'Euro',]].copy()\n",
    "\n",
    "format_mapping= {\n",
    "                  'Euro': \"€{:,.0f}\"\n",
    "                 }\n",
    "\n",
    "for key, value in format_mapping.items():\n",
    "    ev_df[key] = ev_df[key].apply(value.format)\n",
    "\n",
    "# US Zip Code and Lat / Long Dataset    \n",
    "us_zip_lat_long_data = pd.read_csv('us_zip_code_lat_long.csv',dtype={'ZIP': str,'LAT': float,'LNG': float})"
   ]
  },
  {
   "cell_type": "code",
   "execution_count": 29,
   "metadata": {},
   "outputs": [],
   "source": [
    "## Functions\n",
    "\n",
    "\n",
    "def get_distiance(car_id):\n",
    "    return ev_raw.loc[car_id]['range_raw']\n",
    "\n",
    "def get_data_table(car_1,car_2):\n",
    "    f_table = ev_df.loc[[car_1,car_2]].transpose()\n",
    "#     f_table['diff'] = (f_table[car_1]-f_table[car_2])\n",
    "    return f_table           \n",
    "\n",
    "## Get Center point Data\n",
    "def get_poi(zip):\n",
    "    zip,lat,lng = us_zip_lat_long_data.loc[us_zip_lat_long_data['ZIP']== zip_search].values[0]\n",
    "    \n",
    "    poi = {\"Latitude\": lat, \"Longitude\": lng}\n",
    "    return poi\n",
    "\n",
    "## Get zoom for map\n",
    "def get_zoom(distiance_1,distiance_2):\n",
    "    if max(distiance_1,distiance_2) >730:\n",
    "        return 3.25\n",
    "    elif max(distiance_1,distiance_2) >620:\n",
    "        return 3.5\n",
    "    elif max(distiance_1,distiance_2) >540:\n",
    "        return 3.75\n",
    "    elif max(distiance_1,distiance_2) >460:\n",
    "        return 4\n",
    "    elif max(distiance_1,distiance_2) >380:\n",
    "        return 4.25\n",
    "    elif max(distiance_1,distiance_2) >320:\n",
    "        return 4.5\n",
    "    elif max(distiance_1,distiance_2) >265:\n",
    "        return 4.75\n",
    "    elif max(distiance_1,distiance_2) >225:\n",
    "        return 5\n",
    "    elif max(distiance_1,distiance_2) >190:\n",
    "        return 5.25\n",
    "    elif max(distiance_1,distiance_2) >160:\n",
    "        return 5.5\n",
    "    elif max(distiance_1,distiance_2) >135:\n",
    "        return 5.75\n",
    "    elif max(distiance_1,distiance_2) >115:\n",
    "        return 6\n",
    "    elif max(distiance_1,distiance_2) >100:\n",
    "        return 6.25\n",
    "    else: \n",
    "        return 6.5\n",
    "    \n",
    "\n",
    "## Create data for radius map\n",
    "#  https://stackoverflow.com/questions/68946831/draw-a-polygon-around-point-in-scattermapbox-using-python\n",
    "def poi_poly(\n",
    "    df,\n",
    "    radius=10 ** 5,\n",
    "    poi={\"Longitude\": 29.395776, \"Latitude\": -98.464401},\n",
    "    lon_col=\"Longitude\",\n",
    "    lat_col=\"Latitude\",\n",
    "    include_radius_poly=False,\n",
    "):\n",
    "\n",
    "    # generate a geopandas data frame of the POI\n",
    "    gdfpoi = gpd.GeoDataFrame(\n",
    "        geometry=[shapely.geometry.Point(poi[\"Longitude\"], poi[\"Latitude\"])],\n",
    "        crs=\"EPSG:4326\",\n",
    "    )\n",
    "    # extend point to radius defined (a polygon).  Use UTM so that distances work, then back to WSG84\n",
    "    gdfpoi = (\n",
    "        gdfpoi.to_crs(gdfpoi.estimate_utm_crs())\n",
    "        .geometry.buffer(radius)\n",
    "        .to_crs(\"EPSG:4326\")\n",
    "    )\n",
    "\n",
    "    # create a geopandas data frame of all the points / markers\n",
    "    if not df is None:\n",
    "        gdf = gpd.GeoDataFrame(\n",
    "            geometry=df.loc[:, [\"Longitude\", \"Latitude\"]]\n",
    "            .dropna()\n",
    "            .apply(\n",
    "                lambda r: shapely.geometry.Point(r[\"Longitude\"], r[\"Latitude\"]), axis=1\n",
    "            )\n",
    "            .values,\n",
    "            crs=\"EPSG:4326\",\n",
    "        )\n",
    "    else:\n",
    "        gdf = gpd.GeoDataFrame(geometry=gdfpoi)\n",
    "\n",
    "    # create a polygon around the edges of the markers that are within POI polygon\n",
    "    return pd.concat(\n",
    "        [\n",
    "            gpd.GeoDataFrame(\n",
    "                geometry=[\n",
    "                    gpd.sjoin(\n",
    "                        gdf, gpd.GeoDataFrame(geometry=gdfpoi), how=\"inner\"\n",
    "                    ).unary_union.convex_hull\n",
    "                ]\n",
    "            ),\n",
    "            gpd.GeoDataFrame(geometry=gdfpoi if include_radius_poly else None),\n",
    "        ]\n",
    "    )\n",
    "\n",
    "\n",
    "## Create Radius Map\n",
    "def radius_map(zip,distiance_1,distiance_2):\n",
    "    poi = get_poi(zip)\n",
    "    fig = go.Figure(go.Scattermapbox()).update_layout(\n",
    "        mapbox={\n",
    "    #         \"style\": \"carto-positron\" ,\n",
    "            \"style\": \"open-street-map\",\n",
    "\n",
    "            \"zoom\": get_zoom(distiance_1,distiance_2),\n",
    "            \"center\": {\"lat\": poi[\"Latitude\"], \"lon\": poi[\"Longitude\"]},\n",
    "            \"layers\": [\n",
    "                {\n",
    "                    \"source\": json.loads(poi_poly(None, poi=poi, radius=1609.34 * distiance_1).to_json()),\n",
    "                    \"below\": \"traces\",\n",
    "                    \"type\": \"line\",\n",
    "                    \"color\": \"blue\",\n",
    "                    \"line\": {\"width\": 1.5},\n",
    "                },\n",
    "                {\n",
    "                    \"source\": json.loads(poi_poly(None, poi=poi, radius=1609.34 * distiance_2).to_json()),\n",
    "                    \"below\": \"traces\",\n",
    "                    \"type\": \"line\",\n",
    "                    \"color\": \"red\",\n",
    "                    \"line\": {\"width\": 1.5},\n",
    "                }\n",
    "            ],\n",
    "\n",
    "        },\n",
    "        margin={\"l\": 0, \"r\": 0, \"t\": 0, \"b\": 0},\n",
    "    )\n",
    "    fig.show()"
   ]
  },
  {
   "cell_type": "code",
   "execution_count": null,
   "metadata": {},
   "outputs": [],
   "source": []
  },
  {
   "cell_type": "code",
   "execution_count": null,
   "metadata": {},
   "outputs": [],
   "source": []
  },
  {
   "cell_type": "code",
   "execution_count": 4,
   "metadata": {
    "scrolled": true
   },
   "outputs": [],
   "source": [
    "# # Get distinct Brands\n",
    "# ev_data['Brand'].unique()"
   ]
  },
  {
   "cell_type": "code",
   "execution_count": 5,
   "metadata": {},
   "outputs": [],
   "source": [
    "# # Get Distinct models from brands\n",
    "# ev_data.loc[(ev_data['Brand']== 'Ford')]['Model'].unique()"
   ]
  },
  {
   "cell_type": "code",
   "execution_count": 6,
   "metadata": {},
   "outputs": [],
   "source": [
    "## Car 1\n",
    "# brand_1 = 'Ford'\n",
    "car_1 = 'Mustang Mach-E SR AWD'\n",
    "\n",
    "## Car 2\n",
    "# brand_2 = 'Volkswagen'\n",
    "car_2 = 'ID.4 GTX'"
   ]
  },
  {
   "cell_type": "code",
   "execution_count": null,
   "metadata": {},
   "outputs": [],
   "source": []
  },
  {
   "cell_type": "code",
   "execution_count": 7,
   "metadata": {},
   "outputs": [],
   "source": [
    "## Set Distiance\n",
    "distiance_1 = get_distiance(car_1)\n",
    "distiance_2 = get_distiance(car_2)"
   ]
  },
  {
   "cell_type": "code",
   "execution_count": 23,
   "metadata": {
    "scrolled": true
   },
   "outputs": [],
   "source": [
    "## Set Zip \n",
    "# zip_search = input(\"Zip: \")\n",
    "zip_search = '76501'"
   ]
  },
  {
   "cell_type": "code",
   "execution_count": 24,
   "metadata": {
    "scrolled": false
   },
   "outputs": [
    {
     "data": {
      "application/vnd.plotly.v1+json": {
       "config": {
        "plotlyServerURL": "https://plot.ly"
       },
       "data": [
        {
         "type": "scattermapbox"
        }
       ],
       "layout": {
        "mapbox": {
         "center": {
          "lat": 31.075303,
          "lon": -97.252433
         },
         "layers": [
          {
           "below": "traces",
           "color": "blue",
           "line": {
            "width": 1.5
           },
           "source": {
            "features": [
             {
              "geometry": {
               "coordinates": [
                [
                 [
                  -97.30185324292214,
                  28.171724537480326
                 ],
                 [
                  -97.62294224076058,
                  28.18931918856077
                 ],
                 [
                  -97.94079757980222,
                  28.233981802947024
                 ],
                 [
                  -98.25258291853,
                  28.305319298333497
                 ],
                 [
                  -98.55550350449884,
                  28.40269645671933
                 ],
                 [
                  -98.84682673040577,
                  28.525240878531836
                 ],
                 [
                  -99.12390250624584,
                  28.67184991488976
                 ],
                 [
                  -99.3841833852692,
                  28.841199485566463
                 ],
                 [
                  -99.62524440338613,
                  29.03175467333101
                 ],
                 [
                  -99.84480261295236,
                  29.241781977512282
                 ],
                 [
                  -100.04073630874461,
                  29.46936311100726
                 ],
                 [
                  -100.21110395260649,
                  29.71241023476967
                 ],
                 [
                  -100.35416280018872,
                  29.96868254041197
                 ],
                 [
                  -100.46838721551224,
                  30.235804112494726
                 ],
                 [
                  -100.55248662475202,
                  30.51128302431178
                 ],
                 [
                  -100.60542300889512,
                  30.79253164106829
                 ],
                 [
                  -100.62642776647118,
                  31.076888118712148
                 ],
                 [
                  -100.61501769479194,
                  31.361639091890652
                 ],
                 [
                  -100.57100974531991,
                  31.64404353758312
                 ],
                 [
                  -100.49453411205506,
                  31.921357779671954
                 ],
                 [
                  -100.38604511909736,
                  32.19086156286533
                 ],
                 [
                  -100.24632929419917,
                  32.44988507206614
                 ],
                 [
                  -100.07650995947685,
                  32.6958367070704
                 ],
                 [
                  -99.8780476489419,
                  32.92623134553329
                 ],
                 [
                  -99.65273568465449,
                  33.138718744178114
                 ],
                 [
                  -99.4026903164607,
                  33.331111645332776
                 ],
                 [
                  -99.13033495838029,
                  33.501413080158294
                 ],
                 [
                  -98.8383782370876,
                  33.647842298950536
                 ],
                 [
                  -98.52978579846014,
                  33.768858719983804
                 ],
                 [
                  -98.20774608501974,
                  33.863183277832384
                 ],
                 [
                  -97.87563058314423,
                  33.929816574442356
                 ],
                 [
                  -97.53694932304299,
                  33.96805329339626
                 ],
                 [
                  -97.19530267349693,
                  33.97749242879898
                 ],
                 [
                  -96.85433068460343,
                  33.95804300084464
                 ],
                 [
                  -96.51766137580796,
                  33.90992507331729
                 ],
                 [
                  -96.18885942963273,
                  33.833666044631315
                 ],
                 [
                  -95.8713767275581,
                  33.73009234273653
                 ],
                 [
                  -95.568506055682,
                  33.600316804232115
                 ],
                 [
                  -95.28333912437206,
                  33.44572214916458
                 ],
                 [
                  -95.01872980513284,
                  33.2679410669646
                 ],
                 [
                  -94.77726321082059,
                  33.06883350021573
                 ],
                 [
                  -94.56123095547042,
                  32.85046174895554
                 ],
                 [
                  -94.37261264981397,
                  32.61506401961072
                 ],
                 [
                  -94.21306343739542,
                  32.36502701286926
                 ],
                 [
                  -94.08390716859002,
                  32.10285808939172
                 ],
                 [
                  -93.98613465475817,
                  31.831157478279795
                 ],
                 [
                  -93.92040634553108,
                  31.552590908292725
                 ],
                 [
                  -93.88705872706477,
                  31.269862953445465
                 ],
                 [
                  -93.88611374223069,
                  30.985691299602948
                 ],
                 [
                  -93.91729057655134,
                  30.70278206257885
                 ],
                 [
                  -93.98001922614513,
                  30.4238062251657
                 ],
                 [
                  -94.07345535552243,
                  30.151377213017344
                 ],
                 [
                  -94.19649605381137,
                  29.888029598394283
                 ],
                 [
                  -94.34779619909838,
                  29.63619890609898
                 ],
                 [
                  -94.5257852348452,
                  29.39820249592404
                 ],
                 [
                  -94.72868424437748,
                  29.176221508131032
                 ],
                 [
                  -94.95452327562906,
                  28.972283879736754
                 ],
                 [
                  -95.20115891680723,
                  28.788248466189557
                 ],
                 [
                  -95.46629215410915,
                  28.625790331743833
                 ],
                 [
                  -95.7474865561181,
                  28.486387299011337
                 ],
                 [
                  -96.04218682818424,
                  28.371307870690146
                 ],
                 [
                  -96.34773776692656,
                  28.281600651848112
                 ],
                 [
                  -96.66140362350951,
                  28.218085407620315
                 ],
                 [
                  -96.98038785832789,
                  28.18134588788885
                 ],
                 [
                  -97.30185324292214,
                  28.171724537480326
                 ]
                ]
               ],
               "type": "Polygon"
              },
              "id": "0",
              "properties": {},
              "type": "Feature"
             }
            ],
            "type": "FeatureCollection"
           },
           "type": "line"
          },
          {
           "below": "traces",
           "color": "red",
           "line": {
            "width": 1.5
           },
           "source": {
            "features": [
             {
              "geometry": {
               "coordinates": [
                [
                 [
                  -97.31200345340422,
                  27.518236837138236
                 ],
                 [
                  -97.70301305926705,
                  27.53957160420638
                 ],
                 [
                  -98.09016639875223,
                  27.593897266014313
                 ],
                 [
                  -98.47005810629844,
                  27.680742282290343
                 ],
                 [
                  -98.83932996867676,
                  27.799342059667158
                 ],
                 [
                  -99.1946946430075,
                  27.948645034956428
                 ],
                 [
                  -99.53295907002766,
                  28.127321188956593
                 ],
                 [
                  -99.85104750529557,
                  28.333772825881766
                 ],
                 [
                  -100.14602414258631,
                  28.5661474269008
                 ],
                 [
                  -100.41511535676837,
                  28.822352377152956
                 ],
                 [
                  -100.65573164107411,
                  29.10007137440372
                 ],
                 [
                  -100.86548934882781,
                  29.396782352985248
                 ],
                 [
                  -101.04223236563351,
                  29.70977679599127
                 ],
                 [
                  -101.18405382883702,
                  30.036180357620815
                 ],
                 [
                  -101.28931797214445,
                  30.37297477072
                 ],
                 [
                  -101.356682101772,
                  30.717021065825204
                 ],
                 [
                  -101.385118605824,
                  31.065084170875316
                 ],
                 [
                  -101.37393676285826,
                  31.413858988833013
                 ],
                 [
                  -101.32280395402191,
                  31.75999805789189
                 ],
                 [
                  -101.23176570439655,
                  32.100140880962805
                 ],
                 [
                  -101.1012637955324,
                  32.430944964503034
                 ],
                 [
                  -100.9321515182756,
                  32.74911853031899
                 ],
                 [
                  -100.72570499144899,
                  33.05145475909388
                 ],
                 [
                  -100.48362937799416,
                  33.33486729528939
                 ],
                 [
                  -100.20805880601931,
                  33.596426596994434
                 ],
                 [
                  -99.90154886559881,
                  33.83339656141076
                 ],
                 [
                  -99.56706071569253,
                  34.04327070958913
                 ],
                 [
                  -99.20793610368072,
                  34.22380708695572
                 ],
                 [
                  -98.82786296670123,
                  34.373060943588754
                 ],
                 [
                  -98.43083173121515,
                  34.4894142133364
                 ],
                 [
                  -98.02108292511438,
                  34.571600823902806
                 ],
                 [
                  -97.60304722542499,
                  34.618726946531126
                 ],
                 [
                  -97.18127953847554,
                  34.630285433574436
                 ],
                 [
                  -96.76038910198866,
                  34.60616388832753
                 ],
                 [
                  -96.34496786926853,
                  34.54664605110779
                 ],
                 [
                  -95.9395195553662,
                  34.4524064508623
                 ],
                 [
                  -95.54839168057241,
                  34.32449854164828
                 ],
                 [
                  -95.17571274252545,
                  34.1643367966943
                 ],
                 [
                  -94.82533630656188,
                  33.97367344982775
                 ],
                 [
                  -94.50079336048415,
                  33.75457073941705
                 ],
                 [
                  -94.20525377907573,
                  33.50936961389557
                 ],
                 [
                  -93.94149723229428,
                  33.24065589708768
                 ],
                 [
                  -93.71189339246065,
                  32.951224888866854
                 ],
                 [
                  -93.51839088505719,
                  32.64404530034843
                 ],
                 [
                  -93.36251410891599,
                  32.32222330489341
                 ],
                 [
                  -93.24536683645125,
                  31.98896734082447
                 ],
                 [
                  -93.16764139363602,
                  31.647554143531462
                 ],
                 [
                  -93.129632203786,
                  31.301296327184
                 ],
                 [
                  -93.13125254342893,
                  30.953511691149004
                 ],
                 [
                  -93.17205348340428,
                  30.607494302323317
                 ],
                 [
                  -93.2512441534991,
                  30.26648730787588
                 ],
                 [
                  -93.36771265490857,
                  29.93365736638702
                 ],
                 [
                  -93.52004713445227,
                  29.612070549463176
                 ],
                 [
                  -93.70655671373335,
                  29.304669558731685
                 ],
                 [
                  -93.92529212469216,
                  29.014252121017282
                 ],
                 [
                  -94.17406603308028,
                  28.74345046246605
                 ],
                 [
                  -94.45047312921443,
                  28.49471181453356
                 ],
                 [
                  -94.75191012969672,
                  28.270279964752017
                 ],
                 [
                  -95.075595865714,
                  28.072177926662434
                 ],
                 [
                  -95.4185916361292,
                  27.90219186020965
                 ],
                 [
                  -95.77782198148701,
                  27.761856420933377
                 ],
                 [
                  -96.15009599407827,
                  27.65244174917308
                 ],
                 [
                  -96.53212922589138,
                  27.57494232628807
                 ],
                 [
                  -96.92056619749827,
                  27.53006792215375
                 ],
                 [
                  -97.31200345340422,
                  27.518236837138236
                 ]
                ]
               ],
               "type": "Polygon"
              },
              "id": "0",
              "properties": {},
              "type": "Feature"
             }
            ],
            "type": "FeatureCollection"
           },
           "type": "line"
          }
         ],
         "style": "open-street-map",
         "zoom": 5
        },
        "margin": {
         "b": 0,
         "l": 0,
         "r": 0,
         "t": 0
        },
        "template": {
         "data": {
          "bar": [
           {
            "error_x": {
             "color": "#2a3f5f"
            },
            "error_y": {
             "color": "#2a3f5f"
            },
            "marker": {
             "line": {
              "color": "#E5ECF6",
              "width": 0.5
             },
             "pattern": {
              "fillmode": "overlay",
              "size": 10,
              "solidity": 0.2
             }
            },
            "type": "bar"
           }
          ],
          "barpolar": [
           {
            "marker": {
             "line": {
              "color": "#E5ECF6",
              "width": 0.5
             },
             "pattern": {
              "fillmode": "overlay",
              "size": 10,
              "solidity": 0.2
             }
            },
            "type": "barpolar"
           }
          ],
          "carpet": [
           {
            "aaxis": {
             "endlinecolor": "#2a3f5f",
             "gridcolor": "white",
             "linecolor": "white",
             "minorgridcolor": "white",
             "startlinecolor": "#2a3f5f"
            },
            "baxis": {
             "endlinecolor": "#2a3f5f",
             "gridcolor": "white",
             "linecolor": "white",
             "minorgridcolor": "white",
             "startlinecolor": "#2a3f5f"
            },
            "type": "carpet"
           }
          ],
          "choropleth": [
           {
            "colorbar": {
             "outlinewidth": 0,
             "ticks": ""
            },
            "type": "choropleth"
           }
          ],
          "contour": [
           {
            "colorbar": {
             "outlinewidth": 0,
             "ticks": ""
            },
            "colorscale": [
             [
              0,
              "#0d0887"
             ],
             [
              0.1111111111111111,
              "#46039f"
             ],
             [
              0.2222222222222222,
              "#7201a8"
             ],
             [
              0.3333333333333333,
              "#9c179e"
             ],
             [
              0.4444444444444444,
              "#bd3786"
             ],
             [
              0.5555555555555556,
              "#d8576b"
             ],
             [
              0.6666666666666666,
              "#ed7953"
             ],
             [
              0.7777777777777778,
              "#fb9f3a"
             ],
             [
              0.8888888888888888,
              "#fdca26"
             ],
             [
              1,
              "#f0f921"
             ]
            ],
            "type": "contour"
           }
          ],
          "contourcarpet": [
           {
            "colorbar": {
             "outlinewidth": 0,
             "ticks": ""
            },
            "type": "contourcarpet"
           }
          ],
          "heatmap": [
           {
            "colorbar": {
             "outlinewidth": 0,
             "ticks": ""
            },
            "colorscale": [
             [
              0,
              "#0d0887"
             ],
             [
              0.1111111111111111,
              "#46039f"
             ],
             [
              0.2222222222222222,
              "#7201a8"
             ],
             [
              0.3333333333333333,
              "#9c179e"
             ],
             [
              0.4444444444444444,
              "#bd3786"
             ],
             [
              0.5555555555555556,
              "#d8576b"
             ],
             [
              0.6666666666666666,
              "#ed7953"
             ],
             [
              0.7777777777777778,
              "#fb9f3a"
             ],
             [
              0.8888888888888888,
              "#fdca26"
             ],
             [
              1,
              "#f0f921"
             ]
            ],
            "type": "heatmap"
           }
          ],
          "heatmapgl": [
           {
            "colorbar": {
             "outlinewidth": 0,
             "ticks": ""
            },
            "colorscale": [
             [
              0,
              "#0d0887"
             ],
             [
              0.1111111111111111,
              "#46039f"
             ],
             [
              0.2222222222222222,
              "#7201a8"
             ],
             [
              0.3333333333333333,
              "#9c179e"
             ],
             [
              0.4444444444444444,
              "#bd3786"
             ],
             [
              0.5555555555555556,
              "#d8576b"
             ],
             [
              0.6666666666666666,
              "#ed7953"
             ],
             [
              0.7777777777777778,
              "#fb9f3a"
             ],
             [
              0.8888888888888888,
              "#fdca26"
             ],
             [
              1,
              "#f0f921"
             ]
            ],
            "type": "heatmapgl"
           }
          ],
          "histogram": [
           {
            "marker": {
             "pattern": {
              "fillmode": "overlay",
              "size": 10,
              "solidity": 0.2
             }
            },
            "type": "histogram"
           }
          ],
          "histogram2d": [
           {
            "colorbar": {
             "outlinewidth": 0,
             "ticks": ""
            },
            "colorscale": [
             [
              0,
              "#0d0887"
             ],
             [
              0.1111111111111111,
              "#46039f"
             ],
             [
              0.2222222222222222,
              "#7201a8"
             ],
             [
              0.3333333333333333,
              "#9c179e"
             ],
             [
              0.4444444444444444,
              "#bd3786"
             ],
             [
              0.5555555555555556,
              "#d8576b"
             ],
             [
              0.6666666666666666,
              "#ed7953"
             ],
             [
              0.7777777777777778,
              "#fb9f3a"
             ],
             [
              0.8888888888888888,
              "#fdca26"
             ],
             [
              1,
              "#f0f921"
             ]
            ],
            "type": "histogram2d"
           }
          ],
          "histogram2dcontour": [
           {
            "colorbar": {
             "outlinewidth": 0,
             "ticks": ""
            },
            "colorscale": [
             [
              0,
              "#0d0887"
             ],
             [
              0.1111111111111111,
              "#46039f"
             ],
             [
              0.2222222222222222,
              "#7201a8"
             ],
             [
              0.3333333333333333,
              "#9c179e"
             ],
             [
              0.4444444444444444,
              "#bd3786"
             ],
             [
              0.5555555555555556,
              "#d8576b"
             ],
             [
              0.6666666666666666,
              "#ed7953"
             ],
             [
              0.7777777777777778,
              "#fb9f3a"
             ],
             [
              0.8888888888888888,
              "#fdca26"
             ],
             [
              1,
              "#f0f921"
             ]
            ],
            "type": "histogram2dcontour"
           }
          ],
          "mesh3d": [
           {
            "colorbar": {
             "outlinewidth": 0,
             "ticks": ""
            },
            "type": "mesh3d"
           }
          ],
          "parcoords": [
           {
            "line": {
             "colorbar": {
              "outlinewidth": 0,
              "ticks": ""
             }
            },
            "type": "parcoords"
           }
          ],
          "pie": [
           {
            "automargin": true,
            "type": "pie"
           }
          ],
          "scatter": [
           {
            "marker": {
             "colorbar": {
              "outlinewidth": 0,
              "ticks": ""
             }
            },
            "type": "scatter"
           }
          ],
          "scatter3d": [
           {
            "line": {
             "colorbar": {
              "outlinewidth": 0,
              "ticks": ""
             }
            },
            "marker": {
             "colorbar": {
              "outlinewidth": 0,
              "ticks": ""
             }
            },
            "type": "scatter3d"
           }
          ],
          "scattercarpet": [
           {
            "marker": {
             "colorbar": {
              "outlinewidth": 0,
              "ticks": ""
             }
            },
            "type": "scattercarpet"
           }
          ],
          "scattergeo": [
           {
            "marker": {
             "colorbar": {
              "outlinewidth": 0,
              "ticks": ""
             }
            },
            "type": "scattergeo"
           }
          ],
          "scattergl": [
           {
            "marker": {
             "colorbar": {
              "outlinewidth": 0,
              "ticks": ""
             }
            },
            "type": "scattergl"
           }
          ],
          "scattermapbox": [
           {
            "marker": {
             "colorbar": {
              "outlinewidth": 0,
              "ticks": ""
             }
            },
            "type": "scattermapbox"
           }
          ],
          "scatterpolar": [
           {
            "marker": {
             "colorbar": {
              "outlinewidth": 0,
              "ticks": ""
             }
            },
            "type": "scatterpolar"
           }
          ],
          "scatterpolargl": [
           {
            "marker": {
             "colorbar": {
              "outlinewidth": 0,
              "ticks": ""
             }
            },
            "type": "scatterpolargl"
           }
          ],
          "scatterternary": [
           {
            "marker": {
             "colorbar": {
              "outlinewidth": 0,
              "ticks": ""
             }
            },
            "type": "scatterternary"
           }
          ],
          "surface": [
           {
            "colorbar": {
             "outlinewidth": 0,
             "ticks": ""
            },
            "colorscale": [
             [
              0,
              "#0d0887"
             ],
             [
              0.1111111111111111,
              "#46039f"
             ],
             [
              0.2222222222222222,
              "#7201a8"
             ],
             [
              0.3333333333333333,
              "#9c179e"
             ],
             [
              0.4444444444444444,
              "#bd3786"
             ],
             [
              0.5555555555555556,
              "#d8576b"
             ],
             [
              0.6666666666666666,
              "#ed7953"
             ],
             [
              0.7777777777777778,
              "#fb9f3a"
             ],
             [
              0.8888888888888888,
              "#fdca26"
             ],
             [
              1,
              "#f0f921"
             ]
            ],
            "type": "surface"
           }
          ],
          "table": [
           {
            "cells": {
             "fill": {
              "color": "#EBF0F8"
             },
             "line": {
              "color": "white"
             }
            },
            "header": {
             "fill": {
              "color": "#C8D4E3"
             },
             "line": {
              "color": "white"
             }
            },
            "type": "table"
           }
          ]
         },
         "layout": {
          "annotationdefaults": {
           "arrowcolor": "#2a3f5f",
           "arrowhead": 0,
           "arrowwidth": 1
          },
          "autotypenumbers": "strict",
          "coloraxis": {
           "colorbar": {
            "outlinewidth": 0,
            "ticks": ""
           }
          },
          "colorscale": {
           "diverging": [
            [
             0,
             "#8e0152"
            ],
            [
             0.1,
             "#c51b7d"
            ],
            [
             0.2,
             "#de77ae"
            ],
            [
             0.3,
             "#f1b6da"
            ],
            [
             0.4,
             "#fde0ef"
            ],
            [
             0.5,
             "#f7f7f7"
            ],
            [
             0.6,
             "#e6f5d0"
            ],
            [
             0.7,
             "#b8e186"
            ],
            [
             0.8,
             "#7fbc41"
            ],
            [
             0.9,
             "#4d9221"
            ],
            [
             1,
             "#276419"
            ]
           ],
           "sequential": [
            [
             0,
             "#0d0887"
            ],
            [
             0.1111111111111111,
             "#46039f"
            ],
            [
             0.2222222222222222,
             "#7201a8"
            ],
            [
             0.3333333333333333,
             "#9c179e"
            ],
            [
             0.4444444444444444,
             "#bd3786"
            ],
            [
             0.5555555555555556,
             "#d8576b"
            ],
            [
             0.6666666666666666,
             "#ed7953"
            ],
            [
             0.7777777777777778,
             "#fb9f3a"
            ],
            [
             0.8888888888888888,
             "#fdca26"
            ],
            [
             1,
             "#f0f921"
            ]
           ],
           "sequentialminus": [
            [
             0,
             "#0d0887"
            ],
            [
             0.1111111111111111,
             "#46039f"
            ],
            [
             0.2222222222222222,
             "#7201a8"
            ],
            [
             0.3333333333333333,
             "#9c179e"
            ],
            [
             0.4444444444444444,
             "#bd3786"
            ],
            [
             0.5555555555555556,
             "#d8576b"
            ],
            [
             0.6666666666666666,
             "#ed7953"
            ],
            [
             0.7777777777777778,
             "#fb9f3a"
            ],
            [
             0.8888888888888888,
             "#fdca26"
            ],
            [
             1,
             "#f0f921"
            ]
           ]
          },
          "colorway": [
           "#636efa",
           "#EF553B",
           "#00cc96",
           "#ab63fa",
           "#FFA15A",
           "#19d3f3",
           "#FF6692",
           "#B6E880",
           "#FF97FF",
           "#FECB52"
          ],
          "font": {
           "color": "#2a3f5f"
          },
          "geo": {
           "bgcolor": "white",
           "lakecolor": "white",
           "landcolor": "#E5ECF6",
           "showlakes": true,
           "showland": true,
           "subunitcolor": "white"
          },
          "hoverlabel": {
           "align": "left"
          },
          "hovermode": "closest",
          "mapbox": {
           "style": "light"
          },
          "paper_bgcolor": "white",
          "plot_bgcolor": "#E5ECF6",
          "polar": {
           "angularaxis": {
            "gridcolor": "white",
            "linecolor": "white",
            "ticks": ""
           },
           "bgcolor": "#E5ECF6",
           "radialaxis": {
            "gridcolor": "white",
            "linecolor": "white",
            "ticks": ""
           }
          },
          "scene": {
           "xaxis": {
            "backgroundcolor": "#E5ECF6",
            "gridcolor": "white",
            "gridwidth": 2,
            "linecolor": "white",
            "showbackground": true,
            "ticks": "",
            "zerolinecolor": "white"
           },
           "yaxis": {
            "backgroundcolor": "#E5ECF6",
            "gridcolor": "white",
            "gridwidth": 2,
            "linecolor": "white",
            "showbackground": true,
            "ticks": "",
            "zerolinecolor": "white"
           },
           "zaxis": {
            "backgroundcolor": "#E5ECF6",
            "gridcolor": "white",
            "gridwidth": 2,
            "linecolor": "white",
            "showbackground": true,
            "ticks": "",
            "zerolinecolor": "white"
           }
          },
          "shapedefaults": {
           "line": {
            "color": "#2a3f5f"
           }
          },
          "ternary": {
           "aaxis": {
            "gridcolor": "white",
            "linecolor": "white",
            "ticks": ""
           },
           "baxis": {
            "gridcolor": "white",
            "linecolor": "white",
            "ticks": ""
           },
           "bgcolor": "#E5ECF6",
           "caxis": {
            "gridcolor": "white",
            "linecolor": "white",
            "ticks": ""
           }
          },
          "title": {
           "x": 0.05
          },
          "xaxis": {
           "automargin": true,
           "gridcolor": "white",
           "linecolor": "white",
           "ticks": "",
           "title": {
            "standoff": 15
           },
           "zerolinecolor": "white",
           "zerolinewidth": 2
          },
          "yaxis": {
           "automargin": true,
           "gridcolor": "white",
           "linecolor": "white",
           "ticks": "",
           "title": {
            "standoff": 15
           },
           "zerolinecolor": "white",
           "zerolinewidth": 2
          }
         }
        }
       }
      },
      "text/html": [
       "<div>                            <div id=\"50b8d1bb-9c9b-48fe-a5df-0fedb3782abb\" class=\"plotly-graph-div\" style=\"height:525px; width:100%;\"></div>            <script type=\"text/javascript\">                require([\"plotly\"], function(Plotly) {                    window.PLOTLYENV=window.PLOTLYENV || {};                                    if (document.getElementById(\"50b8d1bb-9c9b-48fe-a5df-0fedb3782abb\")) {                    Plotly.newPlot(                        \"50b8d1bb-9c9b-48fe-a5df-0fedb3782abb\",                        [{\"type\":\"scattermapbox\"}],                        {\"template\":{\"data\":{\"bar\":[{\"error_x\":{\"color\":\"#2a3f5f\"},\"error_y\":{\"color\":\"#2a3f5f\"},\"marker\":{\"line\":{\"color\":\"#E5ECF6\",\"width\":0.5},\"pattern\":{\"fillmode\":\"overlay\",\"size\":10,\"solidity\":0.2}},\"type\":\"bar\"}],\"barpolar\":[{\"marker\":{\"line\":{\"color\":\"#E5ECF6\",\"width\":0.5},\"pattern\":{\"fillmode\":\"overlay\",\"size\":10,\"solidity\":0.2}},\"type\":\"barpolar\"}],\"carpet\":[{\"aaxis\":{\"endlinecolor\":\"#2a3f5f\",\"gridcolor\":\"white\",\"linecolor\":\"white\",\"minorgridcolor\":\"white\",\"startlinecolor\":\"#2a3f5f\"},\"baxis\":{\"endlinecolor\":\"#2a3f5f\",\"gridcolor\":\"white\",\"linecolor\":\"white\",\"minorgridcolor\":\"white\",\"startlinecolor\":\"#2a3f5f\"},\"type\":\"carpet\"}],\"choropleth\":[{\"colorbar\":{\"outlinewidth\":0,\"ticks\":\"\"},\"type\":\"choropleth\"}],\"contour\":[{\"colorbar\":{\"outlinewidth\":0,\"ticks\":\"\"},\"colorscale\":[[0.0,\"#0d0887\"],[0.1111111111111111,\"#46039f\"],[0.2222222222222222,\"#7201a8\"],[0.3333333333333333,\"#9c179e\"],[0.4444444444444444,\"#bd3786\"],[0.5555555555555556,\"#d8576b\"],[0.6666666666666666,\"#ed7953\"],[0.7777777777777778,\"#fb9f3a\"],[0.8888888888888888,\"#fdca26\"],[1.0,\"#f0f921\"]],\"type\":\"contour\"}],\"contourcarpet\":[{\"colorbar\":{\"outlinewidth\":0,\"ticks\":\"\"},\"type\":\"contourcarpet\"}],\"heatmap\":[{\"colorbar\":{\"outlinewidth\":0,\"ticks\":\"\"},\"colorscale\":[[0.0,\"#0d0887\"],[0.1111111111111111,\"#46039f\"],[0.2222222222222222,\"#7201a8\"],[0.3333333333333333,\"#9c179e\"],[0.4444444444444444,\"#bd3786\"],[0.5555555555555556,\"#d8576b\"],[0.6666666666666666,\"#ed7953\"],[0.7777777777777778,\"#fb9f3a\"],[0.8888888888888888,\"#fdca26\"],[1.0,\"#f0f921\"]],\"type\":\"heatmap\"}],\"heatmapgl\":[{\"colorbar\":{\"outlinewidth\":0,\"ticks\":\"\"},\"colorscale\":[[0.0,\"#0d0887\"],[0.1111111111111111,\"#46039f\"],[0.2222222222222222,\"#7201a8\"],[0.3333333333333333,\"#9c179e\"],[0.4444444444444444,\"#bd3786\"],[0.5555555555555556,\"#d8576b\"],[0.6666666666666666,\"#ed7953\"],[0.7777777777777778,\"#fb9f3a\"],[0.8888888888888888,\"#fdca26\"],[1.0,\"#f0f921\"]],\"type\":\"heatmapgl\"}],\"histogram\":[{\"marker\":{\"pattern\":{\"fillmode\":\"overlay\",\"size\":10,\"solidity\":0.2}},\"type\":\"histogram\"}],\"histogram2d\":[{\"colorbar\":{\"outlinewidth\":0,\"ticks\":\"\"},\"colorscale\":[[0.0,\"#0d0887\"],[0.1111111111111111,\"#46039f\"],[0.2222222222222222,\"#7201a8\"],[0.3333333333333333,\"#9c179e\"],[0.4444444444444444,\"#bd3786\"],[0.5555555555555556,\"#d8576b\"],[0.6666666666666666,\"#ed7953\"],[0.7777777777777778,\"#fb9f3a\"],[0.8888888888888888,\"#fdca26\"],[1.0,\"#f0f921\"]],\"type\":\"histogram2d\"}],\"histogram2dcontour\":[{\"colorbar\":{\"outlinewidth\":0,\"ticks\":\"\"},\"colorscale\":[[0.0,\"#0d0887\"],[0.1111111111111111,\"#46039f\"],[0.2222222222222222,\"#7201a8\"],[0.3333333333333333,\"#9c179e\"],[0.4444444444444444,\"#bd3786\"],[0.5555555555555556,\"#d8576b\"],[0.6666666666666666,\"#ed7953\"],[0.7777777777777778,\"#fb9f3a\"],[0.8888888888888888,\"#fdca26\"],[1.0,\"#f0f921\"]],\"type\":\"histogram2dcontour\"}],\"mesh3d\":[{\"colorbar\":{\"outlinewidth\":0,\"ticks\":\"\"},\"type\":\"mesh3d\"}],\"parcoords\":[{\"line\":{\"colorbar\":{\"outlinewidth\":0,\"ticks\":\"\"}},\"type\":\"parcoords\"}],\"pie\":[{\"automargin\":true,\"type\":\"pie\"}],\"scatter\":[{\"marker\":{\"colorbar\":{\"outlinewidth\":0,\"ticks\":\"\"}},\"type\":\"scatter\"}],\"scatter3d\":[{\"line\":{\"colorbar\":{\"outlinewidth\":0,\"ticks\":\"\"}},\"marker\":{\"colorbar\":{\"outlinewidth\":0,\"ticks\":\"\"}},\"type\":\"scatter3d\"}],\"scattercarpet\":[{\"marker\":{\"colorbar\":{\"outlinewidth\":0,\"ticks\":\"\"}},\"type\":\"scattercarpet\"}],\"scattergeo\":[{\"marker\":{\"colorbar\":{\"outlinewidth\":0,\"ticks\":\"\"}},\"type\":\"scattergeo\"}],\"scattergl\":[{\"marker\":{\"colorbar\":{\"outlinewidth\":0,\"ticks\":\"\"}},\"type\":\"scattergl\"}],\"scattermapbox\":[{\"marker\":{\"colorbar\":{\"outlinewidth\":0,\"ticks\":\"\"}},\"type\":\"scattermapbox\"}],\"scatterpolar\":[{\"marker\":{\"colorbar\":{\"outlinewidth\":0,\"ticks\":\"\"}},\"type\":\"scatterpolar\"}],\"scatterpolargl\":[{\"marker\":{\"colorbar\":{\"outlinewidth\":0,\"ticks\":\"\"}},\"type\":\"scatterpolargl\"}],\"scatterternary\":[{\"marker\":{\"colorbar\":{\"outlinewidth\":0,\"ticks\":\"\"}},\"type\":\"scatterternary\"}],\"surface\":[{\"colorbar\":{\"outlinewidth\":0,\"ticks\":\"\"},\"colorscale\":[[0.0,\"#0d0887\"],[0.1111111111111111,\"#46039f\"],[0.2222222222222222,\"#7201a8\"],[0.3333333333333333,\"#9c179e\"],[0.4444444444444444,\"#bd3786\"],[0.5555555555555556,\"#d8576b\"],[0.6666666666666666,\"#ed7953\"],[0.7777777777777778,\"#fb9f3a\"],[0.8888888888888888,\"#fdca26\"],[1.0,\"#f0f921\"]],\"type\":\"surface\"}],\"table\":[{\"cells\":{\"fill\":{\"color\":\"#EBF0F8\"},\"line\":{\"color\":\"white\"}},\"header\":{\"fill\":{\"color\":\"#C8D4E3\"},\"line\":{\"color\":\"white\"}},\"type\":\"table\"}]},\"layout\":{\"annotationdefaults\":{\"arrowcolor\":\"#2a3f5f\",\"arrowhead\":0,\"arrowwidth\":1},\"autotypenumbers\":\"strict\",\"coloraxis\":{\"colorbar\":{\"outlinewidth\":0,\"ticks\":\"\"}},\"colorscale\":{\"diverging\":[[0,\"#8e0152\"],[0.1,\"#c51b7d\"],[0.2,\"#de77ae\"],[0.3,\"#f1b6da\"],[0.4,\"#fde0ef\"],[0.5,\"#f7f7f7\"],[0.6,\"#e6f5d0\"],[0.7,\"#b8e186\"],[0.8,\"#7fbc41\"],[0.9,\"#4d9221\"],[1,\"#276419\"]],\"sequential\":[[0.0,\"#0d0887\"],[0.1111111111111111,\"#46039f\"],[0.2222222222222222,\"#7201a8\"],[0.3333333333333333,\"#9c179e\"],[0.4444444444444444,\"#bd3786\"],[0.5555555555555556,\"#d8576b\"],[0.6666666666666666,\"#ed7953\"],[0.7777777777777778,\"#fb9f3a\"],[0.8888888888888888,\"#fdca26\"],[1.0,\"#f0f921\"]],\"sequentialminus\":[[0.0,\"#0d0887\"],[0.1111111111111111,\"#46039f\"],[0.2222222222222222,\"#7201a8\"],[0.3333333333333333,\"#9c179e\"],[0.4444444444444444,\"#bd3786\"],[0.5555555555555556,\"#d8576b\"],[0.6666666666666666,\"#ed7953\"],[0.7777777777777778,\"#fb9f3a\"],[0.8888888888888888,\"#fdca26\"],[1.0,\"#f0f921\"]]},\"colorway\":[\"#636efa\",\"#EF553B\",\"#00cc96\",\"#ab63fa\",\"#FFA15A\",\"#19d3f3\",\"#FF6692\",\"#B6E880\",\"#FF97FF\",\"#FECB52\"],\"font\":{\"color\":\"#2a3f5f\"},\"geo\":{\"bgcolor\":\"white\",\"lakecolor\":\"white\",\"landcolor\":\"#E5ECF6\",\"showlakes\":true,\"showland\":true,\"subunitcolor\":\"white\"},\"hoverlabel\":{\"align\":\"left\"},\"hovermode\":\"closest\",\"mapbox\":{\"style\":\"light\"},\"paper_bgcolor\":\"white\",\"plot_bgcolor\":\"#E5ECF6\",\"polar\":{\"angularaxis\":{\"gridcolor\":\"white\",\"linecolor\":\"white\",\"ticks\":\"\"},\"bgcolor\":\"#E5ECF6\",\"radialaxis\":{\"gridcolor\":\"white\",\"linecolor\":\"white\",\"ticks\":\"\"}},\"scene\":{\"xaxis\":{\"backgroundcolor\":\"#E5ECF6\",\"gridcolor\":\"white\",\"gridwidth\":2,\"linecolor\":\"white\",\"showbackground\":true,\"ticks\":\"\",\"zerolinecolor\":\"white\"},\"yaxis\":{\"backgroundcolor\":\"#E5ECF6\",\"gridcolor\":\"white\",\"gridwidth\":2,\"linecolor\":\"white\",\"showbackground\":true,\"ticks\":\"\",\"zerolinecolor\":\"white\"},\"zaxis\":{\"backgroundcolor\":\"#E5ECF6\",\"gridcolor\":\"white\",\"gridwidth\":2,\"linecolor\":\"white\",\"showbackground\":true,\"ticks\":\"\",\"zerolinecolor\":\"white\"}},\"shapedefaults\":{\"line\":{\"color\":\"#2a3f5f\"}},\"ternary\":{\"aaxis\":{\"gridcolor\":\"white\",\"linecolor\":\"white\",\"ticks\":\"\"},\"baxis\":{\"gridcolor\":\"white\",\"linecolor\":\"white\",\"ticks\":\"\"},\"bgcolor\":\"#E5ECF6\",\"caxis\":{\"gridcolor\":\"white\",\"linecolor\":\"white\",\"ticks\":\"\"}},\"title\":{\"x\":0.05},\"xaxis\":{\"automargin\":true,\"gridcolor\":\"white\",\"linecolor\":\"white\",\"ticks\":\"\",\"title\":{\"standoff\":15},\"zerolinecolor\":\"white\",\"zerolinewidth\":2},\"yaxis\":{\"automargin\":true,\"gridcolor\":\"white\",\"linecolor\":\"white\",\"ticks\":\"\",\"title\":{\"standoff\":15},\"zerolinecolor\":\"white\",\"zerolinewidth\":2}}},\"mapbox\":{\"center\":{\"lat\":31.075303,\"lon\":-97.252433},\"style\":\"open-street-map\",\"zoom\":5,\"layers\":[{\"below\":\"traces\",\"color\":\"blue\",\"line\":{\"width\":1.5},\"source\":{\"type\":\"FeatureCollection\",\"features\":[{\"id\":\"0\",\"type\":\"Feature\",\"properties\":{},\"geometry\":{\"type\":\"Polygon\",\"coordinates\":[[[-97.30185324292214,28.171724537480326],[-97.62294224076058,28.18931918856077],[-97.94079757980222,28.233981802947024],[-98.25258291853,28.305319298333497],[-98.55550350449884,28.40269645671933],[-98.84682673040577,28.525240878531836],[-99.12390250624584,28.67184991488976],[-99.3841833852692,28.841199485566463],[-99.62524440338613,29.03175467333101],[-99.84480261295236,29.241781977512282],[-100.04073630874461,29.46936311100726],[-100.21110395260649,29.71241023476967],[-100.35416280018872,29.96868254041197],[-100.46838721551224,30.235804112494726],[-100.55248662475202,30.51128302431178],[-100.60542300889512,30.79253164106829],[-100.62642776647118,31.076888118712148],[-100.61501769479194,31.361639091890652],[-100.57100974531991,31.64404353758312],[-100.49453411205506,31.921357779671954],[-100.38604511909736,32.19086156286533],[-100.24632929419917,32.44988507206614],[-100.07650995947685,32.6958367070704],[-99.8780476489419,32.92623134553329],[-99.65273568465449,33.138718744178114],[-99.4026903164607,33.331111645332776],[-99.13033495838029,33.501413080158294],[-98.8383782370876,33.647842298950536],[-98.52978579846014,33.768858719983804],[-98.20774608501974,33.863183277832384],[-97.87563058314423,33.929816574442356],[-97.53694932304299,33.96805329339626],[-97.19530267349693,33.97749242879898],[-96.85433068460343,33.95804300084464],[-96.51766137580796,33.90992507331729],[-96.18885942963273,33.833666044631315],[-95.8713767275581,33.73009234273653],[-95.568506055682,33.600316804232115],[-95.28333912437206,33.44572214916458],[-95.01872980513284,33.2679410669646],[-94.77726321082059,33.06883350021573],[-94.56123095547042,32.85046174895554],[-94.37261264981397,32.61506401961072],[-94.21306343739542,32.36502701286926],[-94.08390716859002,32.10285808939172],[-93.98613465475817,31.831157478279795],[-93.92040634553108,31.552590908292725],[-93.88705872706477,31.269862953445465],[-93.88611374223069,30.985691299602948],[-93.91729057655134,30.70278206257885],[-93.98001922614513,30.4238062251657],[-94.07345535552243,30.151377213017344],[-94.19649605381137,29.888029598394283],[-94.34779619909838,29.63619890609898],[-94.5257852348452,29.39820249592404],[-94.72868424437748,29.176221508131032],[-94.95452327562906,28.972283879736754],[-95.20115891680723,28.788248466189557],[-95.46629215410915,28.625790331743833],[-95.7474865561181,28.486387299011337],[-96.04218682818424,28.371307870690146],[-96.34773776692656,28.281600651848112],[-96.66140362350951,28.218085407620315],[-96.98038785832789,28.18134588788885],[-97.30185324292214,28.171724537480326]]]}}]},\"type\":\"line\"},{\"below\":\"traces\",\"color\":\"red\",\"line\":{\"width\":1.5},\"source\":{\"type\":\"FeatureCollection\",\"features\":[{\"id\":\"0\",\"type\":\"Feature\",\"properties\":{},\"geometry\":{\"type\":\"Polygon\",\"coordinates\":[[[-97.31200345340422,27.518236837138236],[-97.70301305926705,27.53957160420638],[-98.09016639875223,27.593897266014313],[-98.47005810629844,27.680742282290343],[-98.83932996867676,27.799342059667158],[-99.1946946430075,27.948645034956428],[-99.53295907002766,28.127321188956593],[-99.85104750529557,28.333772825881766],[-100.14602414258631,28.5661474269008],[-100.41511535676837,28.822352377152956],[-100.65573164107411,29.10007137440372],[-100.86548934882781,29.396782352985248],[-101.04223236563351,29.70977679599127],[-101.18405382883702,30.036180357620815],[-101.28931797214445,30.37297477072],[-101.356682101772,30.717021065825204],[-101.385118605824,31.065084170875316],[-101.37393676285826,31.413858988833013],[-101.32280395402191,31.75999805789189],[-101.23176570439655,32.100140880962805],[-101.1012637955324,32.430944964503034],[-100.9321515182756,32.74911853031899],[-100.72570499144899,33.05145475909388],[-100.48362937799416,33.33486729528939],[-100.20805880601931,33.596426596994434],[-99.90154886559881,33.83339656141076],[-99.56706071569253,34.04327070958913],[-99.20793610368072,34.22380708695572],[-98.82786296670123,34.373060943588754],[-98.43083173121515,34.4894142133364],[-98.02108292511438,34.571600823902806],[-97.60304722542499,34.618726946531126],[-97.18127953847554,34.630285433574436],[-96.76038910198866,34.60616388832753],[-96.34496786926853,34.54664605110779],[-95.9395195553662,34.4524064508623],[-95.54839168057241,34.32449854164828],[-95.17571274252545,34.1643367966943],[-94.82533630656188,33.97367344982775],[-94.50079336048415,33.75457073941705],[-94.20525377907573,33.50936961389557],[-93.94149723229428,33.24065589708768],[-93.71189339246065,32.951224888866854],[-93.51839088505719,32.64404530034843],[-93.36251410891599,32.32222330489341],[-93.24536683645125,31.98896734082447],[-93.16764139363602,31.647554143531462],[-93.129632203786,31.301296327184],[-93.13125254342893,30.953511691149004],[-93.17205348340428,30.607494302323317],[-93.2512441534991,30.26648730787588],[-93.36771265490857,29.93365736638702],[-93.52004713445227,29.612070549463176],[-93.70655671373335,29.304669558731685],[-93.92529212469216,29.014252121017282],[-94.17406603308028,28.74345046246605],[-94.45047312921443,28.49471181453356],[-94.75191012969672,28.270279964752017],[-95.075595865714,28.072177926662434],[-95.4185916361292,27.90219186020965],[-95.77782198148701,27.761856420933377],[-96.15009599407827,27.65244174917308],[-96.53212922589138,27.57494232628807],[-96.92056619749827,27.53006792215375],[-97.31200345340422,27.518236837138236]]]}}]},\"type\":\"line\"}]},\"margin\":{\"l\":0,\"r\":0,\"t\":0,\"b\":0}},                        {\"responsive\": true}                    ).then(function(){\n",
       "                            \n",
       "var gd = document.getElementById('50b8d1bb-9c9b-48fe-a5df-0fedb3782abb');\n",
       "var x = new MutationObserver(function (mutations, observer) {{\n",
       "        var display = window.getComputedStyle(gd).display;\n",
       "        if (!display || display === 'none') {{\n",
       "            console.log([gd, 'removed!']);\n",
       "            Plotly.purge(gd);\n",
       "            observer.disconnect();\n",
       "        }}\n",
       "}});\n",
       "\n",
       "// Listen for the removal of the full notebook cells\n",
       "var notebookContainer = gd.closest('#notebook-container');\n",
       "if (notebookContainer) {{\n",
       "    x.observe(notebookContainer, {childList: true});\n",
       "}}\n",
       "\n",
       "// Listen for the clearing of the current output cell\n",
       "var outputEl = gd.closest('.output');\n",
       "if (outputEl) {{\n",
       "    x.observe(outputEl, {childList: true});\n",
       "}}\n",
       "\n",
       "                        })                };                });            </script>        </div>"
      ]
     },
     "metadata": {},
     "output_type": "display_data"
    }
   ],
   "source": [
    "# Plot Map\n",
    "radius_map(zip,distiance_1,distiance_2)"
   ]
  },
  {
   "cell_type": "code",
   "execution_count": 30,
   "metadata": {
    "scrolled": false
   },
   "outputs": [
    {
     "data": {
      "text/html": [
       "<div>\n",
       "<style scoped>\n",
       "    .dataframe tbody tr th:only-of-type {\n",
       "        vertical-align: middle;\n",
       "    }\n",
       "\n",
       "    .dataframe tbody tr th {\n",
       "        vertical-align: top;\n",
       "    }\n",
       "\n",
       "    .dataframe thead th {\n",
       "        text-align: right;\n",
       "    }\n",
       "</style>\n",
       "<table border=\"1\" class=\"dataframe\">\n",
       "  <thead>\n",
       "    <tr style=\"text-align: right;\">\n",
       "      <th>Model</th>\n",
       "      <th>Mustang Mach-E SR AWD</th>\n",
       "      <th>ID.4 GTX</th>\n",
       "    </tr>\n",
       "  </thead>\n",
       "  <tbody>\n",
       "    <tr>\n",
       "      <th>Brand</th>\n",
       "      <td>Ford</td>\n",
       "      <td>Volkswagen</td>\n",
       "    </tr>\n",
       "    <tr>\n",
       "      <th>Battery Size (kWh)</th>\n",
       "      <td>68</td>\n",
       "      <td>77</td>\n",
       "    </tr>\n",
       "    <tr>\n",
       "      <th>Segment</th>\n",
       "      <td>D</td>\n",
       "      <td>C</td>\n",
       "    </tr>\n",
       "    <tr>\n",
       "      <th>Powertrian</th>\n",
       "      <td>AWD</td>\n",
       "      <td>AWD</td>\n",
       "    </tr>\n",
       "    <tr>\n",
       "      <th>BodyStyle</th>\n",
       "      <td>SUV</td>\n",
       "      <td>SUV</td>\n",
       "    </tr>\n",
       "    <tr>\n",
       "      <th>Seats</th>\n",
       "      <td>5</td>\n",
       "      <td>5</td>\n",
       "    </tr>\n",
       "    <tr>\n",
       "      <th>0 - 62 MPH (Sec)</th>\n",
       "      <td>6.3</td>\n",
       "      <td>6.2</td>\n",
       "    </tr>\n",
       "    <tr>\n",
       "      <th>Top Speed (MPH)</th>\n",
       "      <td>112</td>\n",
       "      <td>112</td>\n",
       "    </tr>\n",
       "    <tr>\n",
       "      <th>Range (Mi)</th>\n",
       "      <td>200*</td>\n",
       "      <td>245</td>\n",
       "    </tr>\n",
       "    <tr>\n",
       "      <th>Efficiency (Wh/mi)</th>\n",
       "      <td>330*</td>\n",
       "      <td>310</td>\n",
       "    </tr>\n",
       "    <tr>\n",
       "      <th>Euro</th>\n",
       "      <td>€54,000</td>\n",
       "      <td>€50,415</td>\n",
       "    </tr>\n",
       "  </tbody>\n",
       "</table>\n",
       "</div>"
      ],
      "text/plain": [
       "Model              Mustang Mach-E SR AWD    ID.4 GTX\n",
       "Brand                               Ford  Volkswagen\n",
       "Battery Size (kWh)                    68          77\n",
       "Segment                                D           C\n",
       "Powertrian                           AWD         AWD\n",
       "BodyStyle                            SUV         SUV\n",
       "Seats                                  5           5\n",
       "0 - 62 MPH (Sec)                     6.3         6.2\n",
       "Top Speed (MPH)                      112         112\n",
       "Range (Mi)                          200*         245\n",
       "Efficiency (Wh/mi)                  330*         310\n",
       "Euro                             €54,000     €50,415"
      ]
     },
     "metadata": {},
     "output_type": "display_data"
    },
    {
     "name": "stdout",
     "output_type": "stream",
     "text": [
      "*** shaded values are etimates ***\n"
     ]
    }
   ],
   "source": [
    "# formatted_table(comparison_table)\n",
    "display(get_data_table(car_1,car_2))\n",
    "print(\"*** shaded values are etimates ***\")"
   ]
  },
  {
   "cell_type": "code",
   "execution_count": null,
   "metadata": {},
   "outputs": [],
   "source": []
  },
  {
   "cell_type": "code",
   "execution_count": null,
   "metadata": {
    "scrolled": false
   },
   "outputs": [],
   "source": []
  },
  {
   "cell_type": "code",
   "execution_count": 41,
   "metadata": {},
   "outputs": [],
   "source": [
    "a = get_data_table(car_1,car_2)"
   ]
  },
  {
   "cell_type": "code",
   "execution_count": 20,
   "metadata": {},
   "outputs": [
    {
     "data": {
      "text/plain": [
       "-9.0"
      ]
     },
     "execution_count": 20,
     "metadata": {},
     "output_type": "execute_result"
    }
   ],
   "source": [
    "(a[car_1][1]-a[car_2][1])"
   ]
  },
  {
   "cell_type": "code",
   "execution_count": 122,
   "metadata": {},
   "outputs": [],
   "source": [
    "diff = []\n",
    "\n",
    "for i in range(0,11):\n",
    "    \n",
    "    try:\n",
    "        b = (int(a[car_1][i])) - (int(a[car_2][i]))\n",
    "    except:\n",
    "        try:\n",
    "            b = round((float(a[car_1][i].replace(\"*\",\"\"))) - (float(a[car_2][i].replace(\"*\",\"\"))),2)\n",
    "        except:\n",
    "            b = \"NA\"\n",
    "    diff.append(b)"
   ]
  },
  {
   "cell_type": "code",
   "execution_count": 123,
   "metadata": {},
   "outputs": [
    {
     "data": {
      "text/plain": [
       "['NA', -9, 'NA', 'NA', 'NA', 0, 0.1, 0, -45.0, 20.0, 'NA']"
      ]
     },
     "execution_count": 123,
     "metadata": {},
     "output_type": "execute_result"
    }
   ],
   "source": [
    "diff"
   ]
  },
  {
   "cell_type": "code",
   "execution_count": 86,
   "metadata": {
    "scrolled": true
   },
   "outputs": [
    {
     "data": {
      "text/plain": [
       "-9.0"
      ]
     },
     "execution_count": 86,
     "metadata": {},
     "output_type": "execute_result"
    }
   ],
   "source": [
    "(float(a[car_1][1])) - (float(a[car_2][1]))"
   ]
  },
  {
   "cell_type": "code",
   "execution_count": 82,
   "metadata": {},
   "outputs": [
    {
     "data": {
      "text/plain": [
       "Brand                    Ford\n",
       "Battery Size (kWh)         68\n",
       "Segment                     D\n",
       "Powertrian                AWD\n",
       "BodyStyle                 SUV\n",
       "Seats                       5\n",
       "0 - 62 MPH (Sec)          6.3\n",
       "Top Speed (MPH)           112\n",
       "Range (Mi)               200*\n",
       "Efficiency (Wh/mi)       330*\n",
       "Euro                  €54,000\n",
       "Name: Mustang Mach-E SR AWD, dtype: object"
      ]
     },
     "execution_count": 82,
     "metadata": {},
     "output_type": "execute_result"
    }
   ],
   "source": [
    "a[car_1]"
   ]
  },
  {
   "cell_type": "code",
   "execution_count": 105,
   "metadata": {},
   "outputs": [
    {
     "ename": "AttributeError",
     "evalue": "'float' object has no attribute 'replace'",
     "output_type": "error",
     "traceback": [
      "\u001b[0;31m---------------------------------------------------------------------------\u001b[0m",
      "\u001b[0;31mAttributeError\u001b[0m                            Traceback (most recent call last)",
      "\u001b[0;32m<ipython-input-105-0a484b367ff6>\u001b[0m in \u001b[0;36m<module>\u001b[0;34m\u001b[0m\n\u001b[0;32m----> 1\u001b[0;31m \u001b[0;34m(\u001b[0m\u001b[0mfloat\u001b[0m\u001b[0;34m(\u001b[0m\u001b[0ma\u001b[0m\u001b[0;34m[\u001b[0m\u001b[0mcar_1\u001b[0m\u001b[0;34m]\u001b[0m\u001b[0;34m[\u001b[0m\u001b[0;36m1\u001b[0m\u001b[0;34m]\u001b[0m\u001b[0;34m.\u001b[0m\u001b[0mreplace\u001b[0m\u001b[0;34m(\u001b[0m\u001b[0;34m\"*\"\u001b[0m\u001b[0;34m,\u001b[0m\u001b[0;34m\"\"\u001b[0m\u001b[0;34m)\u001b[0m\u001b[0;34m)\u001b[0m\u001b[0;34m)\u001b[0m \u001b[0;34m-\u001b[0m \u001b[0;34m(\u001b[0m\u001b[0mfloat\u001b[0m\u001b[0;34m(\u001b[0m\u001b[0ma\u001b[0m\u001b[0;34m[\u001b[0m\u001b[0mcar_2\u001b[0m\u001b[0;34m]\u001b[0m\u001b[0;34m[\u001b[0m\u001b[0;36m1\u001b[0m\u001b[0;34m]\u001b[0m\u001b[0;34m.\u001b[0m\u001b[0mreplace\u001b[0m\u001b[0;34m(\u001b[0m\u001b[0;34m\"*\"\u001b[0m\u001b[0;34m,\u001b[0m\u001b[0;34m\"\"\u001b[0m\u001b[0;34m)\u001b[0m\u001b[0;34m)\u001b[0m\u001b[0;34m)\u001b[0m\u001b[0;34m\u001b[0m\u001b[0;34m\u001b[0m\u001b[0m\n\u001b[0m",
      "\u001b[0;31mAttributeError\u001b[0m: 'float' object has no attribute 'replace'"
     ]
    }
   ],
   "source": [
    "(float(a[car_1][1].replace(\"*\",\"\"))) - (float(a[car_2][1].replace(\"*\",\"\")))"
   ]
  },
  {
   "cell_type": "code",
   "execution_count": 109,
   "metadata": {},
   "outputs": [
    {
     "ename": "ValueError",
     "evalue": "invalid literal for int() with base 10: 'D'",
     "output_type": "error",
     "traceback": [
      "\u001b[0;31m---------------------------------------------------------------------------\u001b[0m",
      "\u001b[0;31mValueError\u001b[0m                                Traceback (most recent call last)",
      "\u001b[0;32m<ipython-input-109-ad7ed95443d0>\u001b[0m in \u001b[0;36m<module>\u001b[0;34m\u001b[0m\n\u001b[0;32m----> 1\u001b[0;31m \u001b[0;34m(\u001b[0m\u001b[0mint\u001b[0m\u001b[0;34m(\u001b[0m\u001b[0ma\u001b[0m\u001b[0;34m[\u001b[0m\u001b[0mcar_1\u001b[0m\u001b[0;34m]\u001b[0m\u001b[0;34m[\u001b[0m\u001b[0;36m2\u001b[0m\u001b[0;34m]\u001b[0m\u001b[0;34m)\u001b[0m\u001b[0;34m)\u001b[0m \u001b[0;34m-\u001b[0m \u001b[0;34m(\u001b[0m\u001b[0mint\u001b[0m\u001b[0;34m(\u001b[0m\u001b[0ma\u001b[0m\u001b[0;34m[\u001b[0m\u001b[0mcar_2\u001b[0m\u001b[0;34m]\u001b[0m\u001b[0;34m[\u001b[0m\u001b[0;36m2\u001b[0m\u001b[0;34m]\u001b[0m\u001b[0;34m)\u001b[0m\u001b[0;34m)\u001b[0m\u001b[0;34m\u001b[0m\u001b[0;34m\u001b[0m\u001b[0m\n\u001b[0m\u001b[1;32m      2\u001b[0m \u001b[0;34m(\u001b[0m\u001b[0mfloat\u001b[0m\u001b[0;34m(\u001b[0m\u001b[0ma\u001b[0m\u001b[0;34m[\u001b[0m\u001b[0mcar_1\u001b[0m\u001b[0;34m]\u001b[0m\u001b[0;34m[\u001b[0m\u001b[0;36m2\u001b[0m\u001b[0;34m]\u001b[0m\u001b[0;34m.\u001b[0m\u001b[0mreplace\u001b[0m\u001b[0;34m(\u001b[0m\u001b[0;34m\"*\"\u001b[0m\u001b[0;34m,\u001b[0m\u001b[0;34m\"\"\u001b[0m\u001b[0;34m)\u001b[0m\u001b[0;34m)\u001b[0m\u001b[0;34m)\u001b[0m \u001b[0;34m-\u001b[0m \u001b[0;34m(\u001b[0m\u001b[0mfloat\u001b[0m\u001b[0;34m(\u001b[0m\u001b[0ma\u001b[0m\u001b[0;34m[\u001b[0m\u001b[0mcar_2\u001b[0m\u001b[0;34m]\u001b[0m\u001b[0;34m[\u001b[0m\u001b[0;36m2\u001b[0m\u001b[0;34m]\u001b[0m\u001b[0;34m.\u001b[0m\u001b[0mreplace\u001b[0m\u001b[0;34m(\u001b[0m\u001b[0;34m\"*\"\u001b[0m\u001b[0;34m,\u001b[0m\u001b[0;34m\"\"\u001b[0m\u001b[0;34m)\u001b[0m\u001b[0;34m)\u001b[0m\u001b[0;34m)\u001b[0m\u001b[0;34m\u001b[0m\u001b[0;34m\u001b[0m\u001b[0m\n",
      "\u001b[0;31mValueError\u001b[0m: invalid literal for int() with base 10: 'D'"
     ]
    }
   ],
   "source": [
    "(int(a[car_1][2])) - (int(a[car_2][2]))\n",
    "(float(a[car_1][2].replace(\"*\",\"\"))) - (float(a[car_2][2].replace(\"*\",\"\")))"
   ]
  },
  {
   "cell_type": "code",
   "execution_count": 77,
   "metadata": {},
   "outputs": [
    {
     "data": {
      "text/plain": [
       "Brand                    Ford\n",
       "Battery Size (kWh)         68\n",
       "Segment                     D\n",
       "Powertrian                AWD\n",
       "BodyStyle                 SUV\n",
       "Seats                       5\n",
       "0 - 62 MPH (Sec)          6.3\n",
       "Top Speed (MPH)           112\n",
       "Range (Mi)               200*\n",
       "Efficiency (Wh/mi)       330*\n",
       "Euro                  €54,000\n",
       "Name: Mustang Mach-E SR AWD, dtype: object"
      ]
     },
     "execution_count": 77,
     "metadata": {},
     "output_type": "execute_result"
    }
   ],
   "source": [
    "a[car_1]"
   ]
  },
  {
   "cell_type": "code",
   "execution_count": null,
   "metadata": {},
   "outputs": [],
   "source": []
  },
  {
   "cell_type": "code",
   "execution_count": null,
   "metadata": {},
   "outputs": [],
   "source": []
  },
  {
   "cell_type": "code",
   "execution_count": null,
   "metadata": {},
   "outputs": [],
   "source": []
  },
  {
   "cell_type": "code",
   "execution_count": null,
   "metadata": {},
   "outputs": [],
   "source": []
  },
  {
   "cell_type": "code",
   "execution_count": null,
   "metadata": {
    "scrolled": false
   },
   "outputs": [],
   "source": []
  },
  {
   "cell_type": "code",
   "execution_count": null,
   "metadata": {},
   "outputs": [],
   "source": []
  },
  {
   "cell_type": "code",
   "execution_count": null,
   "metadata": {},
   "outputs": [],
   "source": []
  },
  {
   "cell_type": "code",
   "execution_count": null,
   "metadata": {},
   "outputs": [],
   "source": []
  },
  {
   "cell_type": "code",
   "execution_count": null,
   "metadata": {},
   "outputs": [],
   "source": []
  },
  {
   "cell_type": "code",
   "execution_count": 11,
   "metadata": {},
   "outputs": [],
   "source": [
    "# def get_zoom(distiance_1,distiance_2):\n",
    "#     zoom = 10 - (max(distiance_1,distiance_2)/95)\n",
    "#     return zoom\n",
    "\n",
    "\n",
    "# get_zoom(distiance_1,distiance_2)"
   ]
  },
  {
   "cell_type": "code",
   "execution_count": 2,
   "metadata": {
    "scrolled": true
   },
   "outputs": [
    {
     "name": "stdout",
     "output_type": "stream",
     "text": [
      "zsh:1: command not found: conda\r\n"
     ]
    }
   ],
   "source": [
    "# !conda install -c plotly plotly=5.4.0 -y\n"
   ]
  },
  {
   "cell_type": "code",
   "execution_count": 13,
   "metadata": {},
   "outputs": [],
   "source": [
    "# !conda install -c conda-forge geopandas -y"
   ]
  },
  {
   "cell_type": "code",
   "execution_count": 14,
   "metadata": {},
   "outputs": [],
   "source": [
    "# pip install geopandas"
   ]
  },
  {
   "cell_type": "code",
   "execution_count": 15,
   "metadata": {},
   "outputs": [],
   "source": [
    "# pip install shapely"
   ]
  },
  {
   "cell_type": "code",
   "execution_count": 16,
   "metadata": {},
   "outputs": [],
   "source": [
    "# pip install pyproj"
   ]
  },
  {
   "cell_type": "code",
   "execution_count": 4,
   "metadata": {},
   "outputs": [
    {
     "name": "stdout",
     "output_type": "stream",
     "text": [
      "Collecting plotly==5.4.0\n",
      "  Downloading plotly-5.4.0-py2.py3-none-any.whl (25.3 MB)\n",
      "\u001b[K     |████████████████████████████████| 25.3 MB 22.0 MB/s eta 0:00:01B/s eta 0:00:04\n",
      "\u001b[?25hRequirement already satisfied: six in /Applications/anaconda3/lib/python3.8/site-packages (from plotly==5.4.0) (1.15.0)\n",
      "Collecting tenacity>=6.2.0\n",
      "  Downloading tenacity-8.0.1-py3-none-any.whl (24 kB)\n",
      "Installing collected packages: tenacity, plotly\n",
      "Successfully installed plotly-5.4.0 tenacity-8.0.1\n",
      "Note: you may need to restart the kernel to use updated packages.\n"
     ]
    }
   ],
   "source": [
    "pip install plotly==5.4.0"
   ]
  },
  {
   "cell_type": "code",
   "execution_count": null,
   "metadata": {},
   "outputs": [],
   "source": []
  },
  {
   "cell_type": "code",
   "execution_count": null,
   "metadata": {},
   "outputs": [],
   "source": []
  },
  {
   "cell_type": "code",
   "execution_count": null,
   "metadata": {},
   "outputs": [],
   "source": []
  },
  {
   "cell_type": "code",
   "execution_count": null,
   "metadata": {},
   "outputs": [],
   "source": []
  },
  {
   "cell_type": "code",
   "execution_count": null,
   "metadata": {},
   "outputs": [],
   "source": []
  },
  {
   "cell_type": "code",
   "execution_count": null,
   "metadata": {},
   "outputs": [],
   "source": []
  },
  {
   "cell_type": "code",
   "execution_count": null,
   "metadata": {},
   "outputs": [],
   "source": []
  },
  {
   "cell_type": "code",
   "execution_count": null,
   "metadata": {},
   "outputs": [],
   "source": []
  },
  {
   "cell_type": "code",
   "execution_count": null,
   "metadata": {},
   "outputs": [],
   "source": []
  }
 ],
 "metadata": {
  "kernelspec": {
   "display_name": "Python 3",
   "language": "python",
   "name": "python3"
  },
  "language_info": {
   "codemirror_mode": {
    "name": "ipython",
    "version": 3
   },
   "file_extension": ".py",
   "mimetype": "text/x-python",
   "name": "python",
   "nbconvert_exporter": "python",
   "pygments_lexer": "ipython3",
   "version": "3.8.5"
  }
 },
 "nbformat": 4,
 "nbformat_minor": 4
}
