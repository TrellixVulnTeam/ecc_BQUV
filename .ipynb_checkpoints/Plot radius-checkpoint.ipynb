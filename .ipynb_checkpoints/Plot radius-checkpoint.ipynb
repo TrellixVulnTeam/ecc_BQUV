{
 "cells": [
  {
   "cell_type": "code",
   "execution_count": 1,
   "metadata": {},
   "outputs": [],
   "source": [
    "import pandas as pd\n",
    "import numpy as np\n",
    "import plotly.graph_objects as go\n",
    "import requests, io, json\n",
    "import random\n",
    "import plotly.express as px\n",
    "\n",
    "import geopandas as gpd\n",
    "import shapely.geometry\n"
   ]
  },
  {
   "cell_type": "code",
   "execution_count": 2,
   "metadata": {},
   "outputs": [],
   "source": [
    "from ev import *\n",
    "from radius_map import *"
   ]
  },
  {
   "cell_type": "code",
   "execution_count": 3,
   "metadata": {},
   "outputs": [],
   "source": [
    "# bring in EV Data\n",
    "\n",
    "ev_raw = pd.read_csv('./app/data_files/ev_car_final.csv',index_col=0)\n",
    "\n",
    "ev_raw,ev_range,ev_df = ev_data(ev_raw)\n",
    "\n",
    "# US Zip Code and Lat / Long Dataset    \n",
    "us_zip_lat_long_data = pd.read_csv('./app/data_files/us_zip_code_lat_long.csv'\n",
    "                                   ,dtype={'ZIP': str,'LAT': float,'LNG': float})"
   ]
  },
  {
   "cell_type": "code",
   "execution_count": null,
   "metadata": {
    "scrolled": false
   },
   "outputs": [],
   "source": [
    "# # # Get distinct Brands\n",
    "# brands = ev_df['Brand'].unique()\n",
    "# brands"
   ]
  },
  {
   "cell_type": "code",
   "execution_count": null,
   "metadata": {},
   "outputs": [],
   "source": [
    "# # ev_df.loc[(ev_df['Brand']== 'Ford')]\n",
    "# brand_1 = 'Tesla'\n",
    "# # brand_2 = 'Volkswagen'"
   ]
  },
  {
   "cell_type": "code",
   "execution_count": null,
   "metadata": {
    "scrolled": true
   },
   "outputs": [],
   "source": [
    "# # # Get Distinct models from brands\n",
    "# models = ev_df.index[(ev_df['Brand']== brand_1)].unique()\n",
    "# models"
   ]
  },
  {
   "cell_type": "code",
   "execution_count": null,
   "metadata": {},
   "outputs": [],
   "source": [
    "## Car 1\n",
    "# brand_1 = 'Ford'\n",
    "car_1 = 'Mustang Mach-E SR AWD'\n",
    "\n",
    "## Car 2\n",
    "# brand_2 = 'Volkswagen'\n",
    "car_2 = 'ID.4 GTX'"
   ]
  },
  {
   "cell_type": "code",
   "execution_count": null,
   "metadata": {},
   "outputs": [],
   "source": [
    "## Set Distiance\n",
    "range_1 = get_range(ev_range,car_1)\n",
    "range_2 = get_range(ev_range,car_2)"
   ]
  },
  {
   "cell_type": "code",
   "execution_count": null,
   "metadata": {
    "scrolled": true
   },
   "outputs": [],
   "source": [
    "## Set Zip \n",
    "# zip_search = input(\"Zip: \")\n",
    "zip = '32026'"
   ]
  },
  {
   "cell_type": "code",
   "execution_count": null,
   "metadata": {
    "scrolled": false
   },
   "outputs": [],
   "source": [
    "# # Plot Map\n",
    "# radius_map(zip,us_zip_lat_long_data,range_1,range_2)"
   ]
  },
  {
   "cell_type": "code",
   "execution_count": null,
   "metadata": {},
   "outputs": [],
   "source": [
    "ev_raw.info()"
   ]
  },
  {
   "cell_type": "code",
   "execution_count": null,
   "metadata": {},
   "outputs": [],
   "source": [
    "# Subset columns to one needed for correlation recomendation system\n",
    "ev_df = ev_raw.iloc[:,[1,3,4,5,15,16,17,18]]\n",
    "\n",
    "# Convert cagetorical columns into numerical and transpose\n",
    "ev_df = pd.get_dummies(ev_df,drop_first = True).T\n",
    "\n",
    "# Get correlations of vehicles with other vehicles \n",
    "corr = ev_df.corr()\n",
    "\n",
    "# Set the diagonal values to nan\n",
    "np.fill_diagonal(corr.values, np.nan)\n",
    "\n",
    "# Get top 10 vehicles similar to  root vehicle\n",
    "top10 = np.argsort(-corr.values, axis=1)[:, :10]\n",
    "\n",
    "# Get correlation as numpy array for capturing values\n",
    "corr_values = corr.to_numpy()\n",
    "\n",
    "\n",
    "# Empty list\n",
    "ev_top = []\n",
    "\n",
    "\n",
    "# Loop through the top 10 correlations and build data frame\n",
    "\n",
    "for i in  range(len(top10)):\n",
    "        for j in range(len(top10[i])):\n",
    "#             print(\"Model:\", corr.columns[i])\n",
    "#             print(\"Comparison Model:\",corr.columns[order_top10[i][j]])\n",
    "#             print(\"Correlation:\",u[i][order_top10[i][j]])\n",
    "            \n",
    "            model =  corr.columns[i]\n",
    "            comparison_model =corr.columns[top10[i][j]]\n",
    "            correlation = corr_values[i][top10[i][j]]\n",
    "            \n",
    "            ev_top.append([model,comparison_model,correlation])\n",
    "            \n",
    "corr_final = pd.DataFrame(ev_top, columns=[\"Model\", \"Comparison Model\",\"Correlation\"])"
   ]
  },
  {
   "cell_type": "code",
   "execution_count": null,
   "metadata": {},
   "outputs": [],
   "source": [
    "\n",
    "similar_df = corr_final.loc[(df_test['Model']== 'Cybertruck Tri Motor')][[\"Comparison Model\",\"Correlation\"]]"
   ]
  },
  {
   "cell_type": "code",
   "execution_count": null,
   "metadata": {},
   "outputs": [],
   "source": [
    "similar_df"
   ]
  },
  {
   "cell_type": "code",
   "execution_count": 4,
   "metadata": {},
   "outputs": [],
   "source": [
    "corr_final = get_corr(ev_raw)"
   ]
  },
  {
   "cell_type": "code",
   "execution_count": null,
   "metadata": {},
   "outputs": [],
   "source": [
    "# ev_df[['Brand']]\n",
    "\n",
    "corr_final = corr_final.merge(ev_df[['Brand']], how=\"left\", left_on=\"Comparison Model\", right_on=\"Model\")"
   ]
  },
  {
   "cell_type": "code",
   "execution_count": 5,
   "metadata": {},
   "outputs": [
    {
     "data": {
      "text/html": [
       "<div>\n",
       "<style scoped>\n",
       "    .dataframe tbody tr th:only-of-type {\n",
       "        vertical-align: middle;\n",
       "    }\n",
       "\n",
       "    .dataframe tbody tr th {\n",
       "        vertical-align: top;\n",
       "    }\n",
       "\n",
       "    .dataframe thead th {\n",
       "        text-align: right;\n",
       "    }\n",
       "</style>\n",
       "<table border=\"1\" class=\"dataframe\">\n",
       "  <thead>\n",
       "    <tr style=\"text-align: right;\">\n",
       "      <th></th>\n",
       "      <th>Root Model</th>\n",
       "      <th>Brand</th>\n",
       "      <th>Model</th>\n",
       "      <th>Correlation</th>\n",
       "    </tr>\n",
       "  </thead>\n",
       "  <tbody>\n",
       "    <tr>\n",
       "      <th>0</th>\n",
       "      <td>U5</td>\n",
       "      <td>Renault</td>\n",
       "      <td>Zoe ZE50 R135</td>\n",
       "      <td>0.999772</td>\n",
       "    </tr>\n",
       "    <tr>\n",
       "      <th>1</th>\n",
       "      <td>U5</td>\n",
       "      <td>Audi</td>\n",
       "      <td>e-tron Sportback 55 quattro</td>\n",
       "      <td>0.999668</td>\n",
       "    </tr>\n",
       "    <tr>\n",
       "      <th>2</th>\n",
       "      <td>U5</td>\n",
       "      <td>Audi</td>\n",
       "      <td>e-tron Sportback 55 quattro</td>\n",
       "      <td>0.999668</td>\n",
       "    </tr>\n",
       "    <tr>\n",
       "      <th>3</th>\n",
       "      <td>U5</td>\n",
       "      <td>Audi</td>\n",
       "      <td>e-tron 50 quattro</td>\n",
       "      <td>0.999474</td>\n",
       "    </tr>\n",
       "    <tr>\n",
       "      <th>4</th>\n",
       "      <td>U5</td>\n",
       "      <td>Renault</td>\n",
       "      <td>Zoe ZE50 R110</td>\n",
       "      <td>0.999441</td>\n",
       "    </tr>\n",
       "    <tr>\n",
       "      <th>...</th>\n",
       "      <td>...</td>\n",
       "      <td>...</td>\n",
       "      <td>...</td>\n",
       "      <td>...</td>\n",
       "    </tr>\n",
       "    <tr>\n",
       "      <th>1813</th>\n",
       "      <td>XC40 Recharge Twin Pure Electric</td>\n",
       "      <td>Jaguar</td>\n",
       "      <td>I-Pace EV400</td>\n",
       "      <td>0.999483</td>\n",
       "    </tr>\n",
       "    <tr>\n",
       "      <th>1814</th>\n",
       "      <td>XC40 Recharge Twin Pure Electric</td>\n",
       "      <td>Byton</td>\n",
       "      <td>M-Byte 95 kWh 2WD</td>\n",
       "      <td>0.999180</td>\n",
       "    </tr>\n",
       "    <tr>\n",
       "      <th>1815</th>\n",
       "      <td>XC40 Recharge Twin Pure Electric</td>\n",
       "      <td>Byton</td>\n",
       "      <td>M-Byte 95 kWh 4WD</td>\n",
       "      <td>0.999106</td>\n",
       "    </tr>\n",
       "    <tr>\n",
       "      <th>1816</th>\n",
       "      <td>XC40 Recharge Twin Pure Electric</td>\n",
       "      <td>Volkswagen</td>\n",
       "      <td>ID.4 Pure Performance</td>\n",
       "      <td>0.999102</td>\n",
       "    </tr>\n",
       "    <tr>\n",
       "      <th>1817</th>\n",
       "      <td>XC40 Recharge Twin Pure Electric</td>\n",
       "      <td>Volkswagen</td>\n",
       "      <td>ID.4 Pure</td>\n",
       "      <td>0.998997</td>\n",
       "    </tr>\n",
       "  </tbody>\n",
       "</table>\n",
       "<p>1818 rows × 4 columns</p>\n",
       "</div>"
      ],
      "text/plain": [
       "                            Root Model       Brand  \\\n",
       "0                                   U5     Renault   \n",
       "1                                   U5        Audi   \n",
       "2                                   U5        Audi   \n",
       "3                                   U5        Audi   \n",
       "4                                   U5     Renault   \n",
       "...                                ...         ...   \n",
       "1813  XC40 Recharge Twin Pure Electric      Jaguar   \n",
       "1814  XC40 Recharge Twin Pure Electric       Byton   \n",
       "1815  XC40 Recharge Twin Pure Electric       Byton   \n",
       "1816  XC40 Recharge Twin Pure Electric  Volkswagen   \n",
       "1817  XC40 Recharge Twin Pure Electric  Volkswagen   \n",
       "\n",
       "                            Model  Correlation  \n",
       "0                   Zoe ZE50 R135     0.999772  \n",
       "1     e-tron Sportback 55 quattro     0.999668  \n",
       "2     e-tron Sportback 55 quattro     0.999668  \n",
       "3               e-tron 50 quattro     0.999474  \n",
       "4                   Zoe ZE50 R110     0.999441  \n",
       "...                           ...          ...  \n",
       "1813                 I-Pace EV400     0.999483  \n",
       "1814            M-Byte 95 kWh 2WD     0.999180  \n",
       "1815            M-Byte 95 kWh 4WD     0.999106  \n",
       "1816        ID.4 Pure Performance     0.999102  \n",
       "1817                    ID.4 Pure     0.998997  \n",
       "\n",
       "[1818 rows x 4 columns]"
      ]
     },
     "execution_count": 5,
     "metadata": {},
     "output_type": "execute_result"
    }
   ],
   "source": [
    "corr_final"
   ]
  },
  {
   "cell_type": "code",
   "execution_count": null,
   "metadata": {
    "scrolled": true
   },
   "outputs": [],
   "source": [
    "corr_final.columns"
   ]
  },
  {
   "cell_type": "code",
   "execution_count": null,
   "metadata": {},
   "outputs": [],
   "source": [
    "corr_final[['Model', 'Brand','Comparison Model', 'Correlation']]"
   ]
  },
  {
   "cell_type": "code",
   "execution_count": 6,
   "metadata": {},
   "outputs": [],
   "source": [
    "car_id = 'Cybertruck Tri Motor'"
   ]
  },
  {
   "cell_type": "code",
   "execution_count": 10,
   "metadata": {},
   "outputs": [],
   "source": [
    "car_id = 'Leaf'"
   ]
  },
  {
   "cell_type": "code",
   "execution_count": 11,
   "metadata": {},
   "outputs": [
    {
     "data": {
      "text/html": [
       "<div>\n",
       "<style scoped>\n",
       "    .dataframe tbody tr th:only-of-type {\n",
       "        vertical-align: middle;\n",
       "    }\n",
       "\n",
       "    .dataframe tbody tr th {\n",
       "        vertical-align: top;\n",
       "    }\n",
       "\n",
       "    .dataframe thead th {\n",
       "        text-align: right;\n",
       "    }\n",
       "</style>\n",
       "<table border=\"1\" class=\"dataframe\">\n",
       "  <thead>\n",
       "    <tr style=\"text-align: right;\">\n",
       "      <th></th>\n",
       "      <th>Brand</th>\n",
       "      <th>Model</th>\n",
       "      <th>Correlation</th>\n",
       "    </tr>\n",
       "  </thead>\n",
       "  <tbody>\n",
       "    <tr>\n",
       "      <th>1003</th>\n",
       "      <td>Hyundai</td>\n",
       "      <td>Kona Electric 39 kWh</td>\n",
       "      <td>0.999540</td>\n",
       "    </tr>\n",
       "    <tr>\n",
       "      <th>1004</th>\n",
       "      <td>Hyundai</td>\n",
       "      <td>Kona Electric 39 kWh</td>\n",
       "      <td>0.999540</td>\n",
       "    </tr>\n",
       "    <tr>\n",
       "      <th>1005</th>\n",
       "      <td>Honda</td>\n",
       "      <td>e</td>\n",
       "      <td>0.999474</td>\n",
       "    </tr>\n",
       "    <tr>\n",
       "      <th>1006</th>\n",
       "      <td>Nissan</td>\n",
       "      <td>Ariya e-4ORCE 87kWh Performance</td>\n",
       "      <td>0.997970</td>\n",
       "    </tr>\n",
       "    <tr>\n",
       "      <th>1007</th>\n",
       "      <td>Hyundai</td>\n",
       "      <td>IONIQ 5 Long Range AWD</td>\n",
       "      <td>0.997614</td>\n",
       "    </tr>\n",
       "    <tr>\n",
       "      <th>1008</th>\n",
       "      <td>Hyundai</td>\n",
       "      <td>Kona Electric 64 kWh</td>\n",
       "      <td>0.997340</td>\n",
       "    </tr>\n",
       "    <tr>\n",
       "      <th>1009</th>\n",
       "      <td>Hyundai</td>\n",
       "      <td>Kona Electric 64 kWh</td>\n",
       "      <td>0.997340</td>\n",
       "    </tr>\n",
       "    <tr>\n",
       "      <th>1010</th>\n",
       "      <td>Audi</td>\n",
       "      <td>Q4 Sportback e-tron 35</td>\n",
       "      <td>0.996514</td>\n",
       "    </tr>\n",
       "    <tr>\n",
       "      <th>1011</th>\n",
       "      <td>Honda</td>\n",
       "      <td>e Advance</td>\n",
       "      <td>0.995029</td>\n",
       "    </tr>\n",
       "    <tr>\n",
       "      <th>1012</th>\n",
       "      <td>Hyundai</td>\n",
       "      <td>Kona Electric 64 kWh</td>\n",
       "      <td>0.994451</td>\n",
       "    </tr>\n",
       "    <tr>\n",
       "      <th>1013</th>\n",
       "      <td>Hyundai</td>\n",
       "      <td>Kona Electric 64 kWh</td>\n",
       "      <td>0.994451</td>\n",
       "    </tr>\n",
       "    <tr>\n",
       "      <th>1014</th>\n",
       "      <td>Hyundai</td>\n",
       "      <td>IONIQ 5 Long Range 2WD</td>\n",
       "      <td>0.993986</td>\n",
       "    </tr>\n",
       "    <tr>\n",
       "      <th>1015</th>\n",
       "      <td>Fiat</td>\n",
       "      <td>500e Hatchback 24 kWh</td>\n",
       "      <td>0.993544</td>\n",
       "    </tr>\n",
       "  </tbody>\n",
       "</table>\n",
       "</div>"
      ],
      "text/plain": [
       "        Brand                            Model  Correlation\n",
       "1003  Hyundai             Kona Electric 39 kWh     0.999540\n",
       "1004  Hyundai             Kona Electric 39 kWh     0.999540\n",
       "1005    Honda                                e     0.999474\n",
       "1006   Nissan  Ariya e-4ORCE 87kWh Performance     0.997970\n",
       "1007  Hyundai           IONIQ 5 Long Range AWD     0.997614\n",
       "1008  Hyundai             Kona Electric 64 kWh     0.997340\n",
       "1009  Hyundai             Kona Electric 64 kWh     0.997340\n",
       "1010     Audi           Q4 Sportback e-tron 35     0.996514\n",
       "1011    Honda                        e Advance     0.995029\n",
       "1012  Hyundai             Kona Electric 64 kWh     0.994451\n",
       "1013  Hyundai             Kona Electric 64 kWh     0.994451\n",
       "1014  Hyundai           IONIQ 5 Long Range 2WD     0.993986\n",
       "1015     Fiat            500e Hatchback 24 kWh     0.993544"
      ]
     },
     "execution_count": 11,
     "metadata": {},
     "output_type": "execute_result"
    }
   ],
   "source": [
    "get_similar(corr_final,car_id)"
   ]
  },
  {
   "cell_type": "code",
   "execution_count": null,
   "metadata": {},
   "outputs": [],
   "source": [
    "ev_df"
   ]
  },
  {
   "cell_type": "code",
   "execution_count": null,
   "metadata": {},
   "outputs": [],
   "source": [
    "ev_raw.iloc[:,:1]"
   ]
  },
  {
   "cell_type": "code",
   "execution_count": null,
   "metadata": {},
   "outputs": [],
   "source": []
  },
  {
   "cell_type": "code",
   "execution_count": null,
   "metadata": {},
   "outputs": [],
   "source": [
    "corr = ev_df.corr()"
   ]
  },
  {
   "cell_type": "code",
   "execution_count": null,
   "metadata": {},
   "outputs": [],
   "source": [
    "order_top10 = np.argsort(-corr.values, axis=1)[:, :10]"
   ]
  },
  {
   "cell_type": "code",
   "execution_count": null,
   "metadata": {},
   "outputs": [],
   "source": [
    "u = corr.to_numpy()"
   ]
  },
  {
   "cell_type": "code",
   "execution_count": null,
   "metadata": {
    "scrolled": true
   },
   "outputs": [],
   "source": [
    "ev_top = []\n",
    "\n",
    "for i in  range(len(order_top10)):\n",
    "        for j in range(len(order_top10[i])):\n",
    "#             print(\"Model:\", corr.columns[i])\n",
    "#             print(\"Comparison Model:\",corr.columns[order_top10[i][j]])\n",
    "#             print(\"Correlation:\",u[i][order_top10[i][j]])\n",
    "            \n",
    "            model =  corr.columns[i]\n",
    "            comparison_model =corr.columns[order_top10[i][j]]\n",
    "            correlation = u[i][order_top10[i][j]]\n",
    "            \n",
    "            ev_top.append([model,comparison_model,correlation])\n",
    "            \n",
    "df_test = pd.DataFrame(ev_top, columns=[\"Model\", \"Comparison Model\",\"Correlation\"])"
   ]
  },
  {
   "cell_type": "code",
   "execution_count": null,
   "metadata": {},
   "outputs": [],
   "source": [
    "df_test"
   ]
  },
  {
   "cell_type": "code",
   "execution_count": null,
   "metadata": {},
   "outputs": [],
   "source": [
    "ev_top = []\n",
    "\n",
    "for i in  range(len(d_test)):\n",
    "        for j in range(len(d_test[i])):\n",
    "            \n",
    "            model =  corr.columns[i]\n",
    "            comparison_model =corr.columns[d_test[i][j]]\n",
    "            correlation = u[i][d_test[i][j]]\n",
    "            \n",
    "            ev_top.append([model,comparison_model,correlation])\n",
    "            \n",
    "df_test = pd.DataFrame(ev_top, columns=[\"Model\", \"Comparison Model\",\"Correlation\"])"
   ]
  },
  {
   "cell_type": "code",
   "execution_count": null,
   "metadata": {},
   "outputs": [],
   "source": [
    "df_test"
   ]
  },
  {
   "cell_type": "code",
   "execution_count": null,
   "metadata": {},
   "outputs": [],
   "source": [
    "order_top10[2]"
   ]
  },
  {
   "cell_type": "code",
   "execution_count": null,
   "metadata": {},
   "outputs": [],
   "source": [
    "g = order_top10[2]"
   ]
  },
  {
   "cell_type": "code",
   "execution_count": null,
   "metadata": {},
   "outputs": [],
   "source": [
    "corr.columns[order_top10][2][2]"
   ]
  },
  {
   "cell_type": "code",
   "execution_count": null,
   "metadata": {},
   "outputs": [],
   "source": [
    "corr.to_numpy()[2][2]"
   ]
  },
  {
   "cell_type": "code",
   "execution_count": null,
   "metadata": {
    "scrolled": true
   },
   "outputs": [],
   "source": [
    "for i in order_top10[1]:\n",
    "    print(corr.columns[i])\n",
    "    print(u[1][i])"
   ]
  },
  {
   "cell_type": "code",
   "execution_count": null,
   "metadata": {
    "scrolled": true
   },
   "outputs": [],
   "source": [
    "for j in order_top10[1]:\n",
    "    print(corr.columns[1])\n",
    "    \n",
    "    for i in order_top10[1]:\n",
    "        print(corr.columns[i])\n",
    "        print(u[1][i])"
   ]
  },
  {
   "cell_type": "code",
   "execution_count": null,
   "metadata": {},
   "outputs": [],
   "source": [
    "u = corr.to_numpy()"
   ]
  },
  {
   "cell_type": "code",
   "execution_count": null,
   "metadata": {},
   "outputs": [],
   "source": [
    "d_test = order_top10[:5]"
   ]
  },
  {
   "cell_type": "code",
   "execution_count": null,
   "metadata": {},
   "outputs": [],
   "source": [
    "order_top10[0][1]"
   ]
  },
  {
   "cell_type": "code",
   "execution_count": null,
   "metadata": {
    "scrolled": false
   },
   "outputs": [],
   "source": [
    "for i in order_top10[0]:\n",
    "    print(corr.columns[i])\n",
    "    print(u[0][i])"
   ]
  },
  {
   "cell_type": "code",
   "execution_count": null,
   "metadata": {},
   "outputs": [],
   "source": [
    "d_test[0][1]"
   ]
  },
  {
   "cell_type": "code",
   "execution_count": null,
   "metadata": {},
   "outputs": [],
   "source": [
    "d_test"
   ]
  },
  {
   "cell_type": "code",
   "execution_count": null,
   "metadata": {},
   "outputs": [],
   "source": [
    "rows = []\n",
    "for i in range(3):\n",
    "     rows.append([i, i + 1])"
   ]
  },
  {
   "cell_type": "code",
   "execution_count": null,
   "metadata": {
    "scrolled": false
   },
   "outputs": [],
   "source": [
    "ev_top = []\n",
    "\n",
    "for i in  range(len(d_test)):\n",
    "        for j in range(len(d_test[i])):\n",
    "            print(\"Model:\", corr.columns[i])\n",
    "            print(\"Comparison Model:\",corr.columns[d_test[i][j]])\n",
    "            print(\"Correlation:\",u[i][d_test[i][j]])\n",
    "            \n",
    "            model =  corr.columns[i]\n",
    "            comparison_model =corr.columns[d_test[i][j]]\n",
    "            correlation = u[i][d_test[i][j]]\n",
    "            \n",
    "            ev_top.append([model,comparison_model,correlation])\n",
    "            \n",
    "df_test = pd.DataFrame(ev_top, columns=[\"Model\", \"Comparison Model\",\"Correlation\"])"
   ]
  },
  {
   "cell_type": "code",
   "execution_count": null,
   "metadata": {},
   "outputs": [],
   "source": [
    "df_test"
   ]
  },
  {
   "cell_type": "code",
   "execution_count": null,
   "metadata": {
    "scrolled": false
   },
   "outputs": [],
   "source": [
    "for i in d_test:\n",
    "        for j in d_test[i]:\n",
    "            print(corr.columns[i])\n",
    "#             print(u[i][d_test[i][j]])"
   ]
  },
  {
   "cell_type": "code",
   "execution_count": null,
   "metadata": {},
   "outputs": [],
   "source": [
    "d_test"
   ]
  },
  {
   "cell_type": "code",
   "execution_count": null,
   "metadata": {},
   "outputs": [],
   "source": [
    "len(d_test)"
   ]
  },
  {
   "cell_type": "code",
   "execution_count": null,
   "metadata": {},
   "outputs": [],
   "source": [
    "len(d_test[1])"
   ]
  },
  {
   "cell_type": "code",
   "execution_count": null,
   "metadata": {},
   "outputs": [],
   "source": [
    "corr.columns[1]"
   ]
  },
  {
   "cell_type": "code",
   "execution_count": null,
   "metadata": {},
   "outputs": [],
   "source": []
  },
  {
   "cell_type": "code",
   "execution_count": null,
   "metadata": {},
   "outputs": [],
   "source": [
    "h = similar[similar < 1].unstack().transpose().drop_duplicates()"
   ]
  },
  {
   "cell_type": "code",
   "execution_count": null,
   "metadata": {},
   "outputs": [],
   "source": [
    "similar = ev_df.corr()\n",
    "np.fill_diagonal(similar.values, np.nan)"
   ]
  },
  {
   "cell_type": "code",
   "execution_count": null,
   "metadata": {},
   "outputs": [],
   "source": [
    "order_top10 = np.argsort(-similar.values, axis=1)[:, :10]"
   ]
  },
  {
   "cell_type": "code",
   "execution_count": null,
   "metadata": {},
   "outputs": [],
   "source": [
    "order_top10"
   ]
  },
  {
   "cell_type": "code",
   "execution_count": null,
   "metadata": {
    "scrolled": true
   },
   "outputs": [],
   "source": [
    "result_top10 = pd.DataFrame(\n",
    "    similar.columns[order_top10], \n",
    "    columns=['1st', '2nd','3rd','4th','5th','6th','7th','8th','9th','10th'],\n",
    "    index=similar.index\n",
    ")"
   ]
  },
  {
   "cell_type": "code",
   "execution_count": null,
   "metadata": {
    "scrolled": false
   },
   "outputs": [],
   "source": [
    "result_top10"
   ]
  },
  {
   "cell_type": "code",
   "execution_count": null,
   "metadata": {},
   "outputs": [],
   "source": [
    "# similar.reset_index(inplace=True)\n",
    "similar.rename_axis(\"index\",  inplace=True)"
   ]
  },
  {
   "cell_type": "code",
   "execution_count": null,
   "metadata": {},
   "outputs": [],
   "source": [
    "similar"
   ]
  },
  {
   "cell_type": "code",
   "execution_count": null,
   "metadata": {
    "scrolled": true
   },
   "outputs": [],
   "source": [
    "for x in result_top10.columns:\n",
    "    result_top10[x+\"_Val\"] = similar.lookup(similar.index, result_top10[x])"
   ]
  },
  {
   "cell_type": "code",
   "execution_count": null,
   "metadata": {
    "scrolled": true
   },
   "outputs": [],
   "source": [
    "for x in result_top10.columns:\n",
    "    print(x)"
   ]
  },
  {
   "cell_type": "code",
   "execution_count": null,
   "metadata": {},
   "outputs": [],
   "source": [
    "similar = similar.set_index(df[\"index\"]).drop(columns=\"index\")"
   ]
  },
  {
   "cell_type": "code",
   "execution_count": null,
   "metadata": {
    "scrolled": true
   },
   "outputs": [],
   "source": [
    "similar.lookup(similar.index, result_top10['1st'])"
   ]
  },
  {
   "cell_type": "code",
   "execution_count": null,
   "metadata": {},
   "outputs": [],
   "source": []
  },
  {
   "cell_type": "code",
   "execution_count": null,
   "metadata": {
    "scrolled": true
   },
   "outputs": [],
   "source": [
    "similar[similar < .999999]"
   ]
  },
  {
   "cell_type": "code",
   "execution_count": null,
   "metadata": {},
   "outputs": [],
   "source": [
    "similar[similar < 1]"
   ]
  },
  {
   "cell_type": "code",
   "execution_count": null,
   "metadata": {},
   "outputs": [],
   "source": []
  },
  {
   "cell_type": "code",
   "execution_count": null,
   "metadata": {
    "scrolled": true
   },
   "outputs": [],
   "source": [
    "h = similar[similar < 1].unstack().transpose().drop_duplicates()"
   ]
  },
  {
   "cell_type": "code",
   "execution_count": null,
   "metadata": {},
   "outputs": [],
   "source": [
    "h"
   ]
  },
  {
   "cell_type": "code",
   "execution_count": null,
   "metadata": {
    "scrolled": true
   },
   "outputs": [],
   "source": [
    "h.to_frame()"
   ]
  },
  {
   "cell_type": "code",
   "execution_count": null,
   "metadata": {},
   "outputs": [],
   "source": [
    "df = similar[similar < 1].unstack().transpose()\n",
    "    "
   ]
  },
  {
   "cell_type": "code",
   "execution_count": null,
   "metadata": {},
   "outputs": [],
   "source": [
    "df = df.to_frame()"
   ]
  },
  {
   "cell_type": "code",
   "execution_count": null,
   "metadata": {},
   "outputs": [],
   "source": [
    "df.index.set_names([\"Model\", \"Comparison Model\"], inplace=True)"
   ]
  },
  {
   "cell_type": "code",
   "execution_count": null,
   "metadata": {},
   "outputs": [],
   "source": [
    "df.loc[\"Taycan Turbo\"]"
   ]
  },
  {
   "cell_type": "code",
   "execution_count": null,
   "metadata": {
    "scrolled": false
   },
   "outputs": [],
   "source": [
    "df"
   ]
  },
  {
   "cell_type": "code",
   "execution_count": null,
   "metadata": {
    "scrolled": true
   },
   "outputs": [],
   "source": [
    "df.info()"
   ]
  },
  {
   "cell_type": "code",
   "execution_count": null,
   "metadata": {},
   "outputs": [],
   "source": [
    ".unstack().transpose()\\\n",
    "    .sort_values( ascending=False)\\\n",
    "    .drop_duplicates()"
   ]
  },
  {
   "cell_type": "code",
   "execution_count": null,
   "metadata": {
    "scrolled": true
   },
   "outputs": [],
   "source": [
    "# https://towardsdatascience.com/recommender-system-in-python-part-2-content-based-system-693a0e4bb306\n",
    "def get_similar_movies(movie_title, n_ratings_filter=100, n_recommendations=5):\n",
    "    similar = matrix.corrwith(matrix[movie_title])\n",
    "    corr_similar = pd.DataFrame(similar, columns=['correlation'])\n",
    "    corr_similar.dropna(inplace=True)\n",
    "    \n",
    "    orig = data.copy()\n",
    "    \n",
    "    corr_with_movie = pd.merge(\n",
    "        left=corr_similar, \n",
    "        right=orig, \n",
    "        on='title')[['title', 'correlation', 'numRatings']].drop_duplicates().reset_index(drop=True)\n",
    "    \n",
    "    result = corr_with_movie[corr_with_movie['numRatings'] > n_ratings_filter].sort_values(by='correlation', ascending=False)\n",
    "    \n",
    "    return result.head(n_recommendations)"
   ]
  },
  {
   "cell_type": "code",
   "execution_count": null,
   "metadata": {
    "scrolled": true
   },
   "outputs": [],
   "source": []
  },
  {
   "cell_type": "code",
   "execution_count": null,
   "metadata": {},
   "outputs": [],
   "source": []
  },
  {
   "cell_type": "code",
   "execution_count": null,
   "metadata": {},
   "outputs": [],
   "source": []
  },
  {
   "cell_type": "code",
   "execution_count": null,
   "metadata": {
    "scrolled": true
   },
   "outputs": [],
   "source": [
    "# # formatted_table(comparison_table)\n",
    "# display(get_comparison_table(ev_df,car_1,car_2))\n",
    "# print(\"*** shaded values are etimates ***\")"
   ]
  },
  {
   "cell_type": "code",
   "execution_count": null,
   "metadata": {},
   "outputs": [],
   "source": [
    "# get_comparison_table(ev_df,car_1,car_2)"
   ]
  },
  {
   "cell_type": "code",
   "execution_count": null,
   "metadata": {
    "scrolled": false
   },
   "outputs": [],
   "source": []
  },
  {
   "cell_type": "code",
   "execution_count": null,
   "metadata": {},
   "outputs": [],
   "source": [
    "# a = get_data_table(car_1,car_2)"
   ]
  },
  {
   "cell_type": "code",
   "execution_count": null,
   "metadata": {},
   "outputs": [],
   "source": [
    "# (a[car_1][1]-a[car_2][1])"
   ]
  },
  {
   "cell_type": "code",
   "execution_count": null,
   "metadata": {},
   "outputs": [],
   "source": [
    "# diff = []\n",
    "\n",
    "# for i in range(0,11):\n",
    "    \n",
    "#     try:\n",
    "#         b = (int(a[car_1][i])) - (int(a[car_2][i]))\n",
    "#     except:\n",
    "#         try:\n",
    "#             b = round((float(a[car_1][i].replace(\"*\",\"\"))) - (float(a[car_2][i].replace(\"*\",\"\"))),2)\n",
    "#         except:\n",
    "#             b = \"NA\"\n",
    "#     diff.append(b)"
   ]
  },
  {
   "cell_type": "code",
   "execution_count": null,
   "metadata": {},
   "outputs": [],
   "source": [
    "# diff"
   ]
  },
  {
   "cell_type": "code",
   "execution_count": null,
   "metadata": {
    "scrolled": true
   },
   "outputs": [],
   "source": [
    "# (float(a[car_1][1])) - (float(a[car_2][1]))"
   ]
  },
  {
   "cell_type": "code",
   "execution_count": null,
   "metadata": {},
   "outputs": [],
   "source": [
    "# a[car_1]"
   ]
  },
  {
   "cell_type": "code",
   "execution_count": null,
   "metadata": {},
   "outputs": [],
   "source": [
    "# (float(a[car_1][1].replace(\"*\",\"\"))) - (float(a[car_2][1].replace(\"*\",\"\")))"
   ]
  },
  {
   "cell_type": "code",
   "execution_count": null,
   "metadata": {},
   "outputs": [],
   "source": [
    "# (int(a[car_1][2])) - (int(a[car_2][2]))\n",
    "# (float(a[car_1][2].replace(\"*\",\"\"))) - (float(a[car_2][2].replace(\"*\",\"\")))"
   ]
  }
 ],
 "metadata": {
  "kernelspec": {
   "display_name": "Python 3",
   "language": "python",
   "name": "python3"
  },
  "language_info": {
   "codemirror_mode": {
    "name": "ipython",
    "version": 3
   },
   "file_extension": ".py",
   "mimetype": "text/x-python",
   "name": "python",
   "nbconvert_exporter": "python",
   "pygments_lexer": "ipython3",
   "version": "3.8.5"
  }
 },
 "nbformat": 4,
 "nbformat_minor": 4
}
